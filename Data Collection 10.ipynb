{
 "cells": [
  {
   "cell_type": "code",
   "id": "initial_id",
   "metadata": {
    "collapsed": true,
    "jupyter": {
     "outputs_hidden": true
    },
    "ExecuteTime": {
     "end_time": "2024-12-12T07:06:45.155924Z",
     "start_time": "2024-12-12T07:06:45.147964Z"
    }
   },
   "source": [
    "from IPython.display import display, HTML\n",
    "\n",
    "display(HTML(\"<style>.container { width:100% !important; }</style>\"))"
   ],
   "outputs": [
    {
     "data": {
      "text/plain": [
       "<IPython.core.display.HTML object>"
      ],
      "text/html": [
       "<style>.container { width:100% !important; }</style>"
      ]
     },
     "metadata": {},
     "output_type": "display_data"
    }
   ],
   "execution_count": 1
  },
  {
   "cell_type": "code",
   "id": "881ff08627f9526e",
   "metadata": {
    "ExecuteTime": {
     "end_time": "2024-12-12T07:06:45.813796Z",
     "start_time": "2024-12-12T07:06:45.162228Z"
    }
   },
   "source": [
    "import os\n",
    "import pandas as pd\n",
    "from pathlib import Path\n",
    "from pyngrok import ngrok\n",
    "import re\n",
    "import subprocess\n",
    "from uuid import uuid4\n",
    "\n",
    "from netunicorn.base import Pipeline, Architecture\n",
    "# from netunicorn.library.tasks.capture.tcpdump import StartCapture, StopNamedCapture\n",
    "# from netunicorn.library.tasks.measurements.ookla_speedtest import SpeedTest, SpeedTestLinuxImplementation\n",
    "\n",
    "# from execute_pipeline import execute_pipeline, healthcheck\n",
    "from get_proxies import get_proxies\n",
    "# from background_traffic import StartBackgroundTraffic, StopNamedBackgroundTraffic\n",
    "from youtube_watcher import WatchYouTubeVideo\n",
    "from vimeo_watcher import WatchVimeoVideo\n",
    "from twitch_watcher import WatchTwitchStream\n",
    "from webdav import UploadToWebDav"
   ],
   "outputs": [],
   "execution_count": 2
  },
  {
   "cell_type": "code",
   "id": "ea5e082301618841",
   "metadata": {
    "ExecuteTime": {
     "end_time": "2024-12-12T07:06:46.026942Z",
     "start_time": "2024-12-12T07:06:46.025129Z"
    }
   },
   "source": "# healthcheck()",
   "outputs": [],
   "execution_count": 3
  },
  {
   "cell_type": "markdown",
   "id": "fa6cc8b3fc7cb925",
   "metadata": {},
   "source": [
    "Manually `exec` each module so they get pickled by value."
   ]
  },
  {
   "cell_type": "code",
   "id": "ac528d2c57dd861a",
   "metadata": {
    "ExecuteTime": {
     "end_time": "2024-12-12T07:06:46.033446Z",
     "start_time": "2024-12-12T07:06:46.031552Z"
    }
   },
   "source": [
    "# # __name_bak__ = __name__\n",
    "# # for __name__ in [\n",
    "# #     \"background_traffic\",\n",
    "# #     \"youtube_watcher\",\n",
    "# #     \"vimeo_watcher\",\n",
    "# #     \"twitch_watcher\",\n",
    "# #     \"webdav\"\n",
    "# # ]:\n",
    "# #     with open(f\"{__name__}.py\", \"r\") as file:\n",
    "# #         exec(file.read())\n",
    "# # __name__ = __name_bak__\n",
    "# \n",
    "# from cloudpickle import cloudpickle\n",
    "# import youtube_watcher\n",
    "# import vimeo_watcher\n",
    "# import twitch_watcher\n",
    "# import webdav\n",
    "# cloudpickle.register_pickle_by_value(youtube_watcher)\n",
    "# cloudpickle.register_pickle_by_value(vimeo_watcher)\n",
    "# cloudpickle.register_pickle_by_value(twitch_watcher)\n",
    "# cloudpickle.register_pickle_by_value(webdav)"
   ],
   "outputs": [],
   "execution_count": 4
  },
  {
   "cell_type": "markdown",
   "id": "cf48376b8020cd44",
   "metadata": {},
   "source": [
    "These are the list of videos that we are testing. "
   ]
  },
  {
   "cell_type": "code",
   "id": "86647f3106ac223b",
   "metadata": {
    "ExecuteTime": {
     "end_time": "2024-12-12T07:06:46.050307Z",
     "start_time": "2024-12-12T07:06:46.047153Z"
    }
   },
   "source": [
    "youtube_ids = [\n",
    "    \"dQw4w9WgXcQ\",\n",
    "    \"r5JYHXtt_rw\",\n",
    "    \"pxEV1A5mTYM\",\n",
    "    \"Ct6BUPvE2sM\",\n",
    "    \"KjtYZpqvt50\"\n",
    "]\n",
    "\n",
    "youtube_videos = [f\"https://www.youtube.com/watch?v={v}\" for v in youtube_ids]\n",
    "\n",
    "vimeo_ids = [\n",
    "    375468729,\n",
    "    347119375,\n",
    "    297124334,\n",
    "    476306167,\n",
    "    515893651\n",
    "]\n",
    "\n",
    "vimeo_videos = [f\"https://vimeo.com/{v}?autoplay=1\" for v in vimeo_ids]\n",
    "\n",
    "twitch_ids = [\n",
    "    2322690366,\n",
    "    2298318732,\n",
    "    2316652767,\n",
    "    1867242354,\n",
    "    2320975412\n",
    "]\n",
    "\n",
    "twitch_videos = [f\"https://twitch.tv/video/{v}\" for v in twitch_ids]"
   ],
   "outputs": [],
   "execution_count": 5
  },
  {
   "cell_type": "markdown",
   "id": "afea1594f2156380",
   "metadata": {},
   "source": [
    "Load a list of proxies from https://free-proxy-list.net/ and create a Chrome argument for the proxy configuration."
   ]
  },
  {
   "cell_type": "code",
   "id": "ea57ccd81f730ab8",
   "metadata": {
    "ExecuteTime": {
     "end_time": "2024-12-12T07:06:46.240437Z",
     "start_time": "2024-12-12T07:06:46.055688Z"
    }
   },
   "source": [
    "proxies = [proxy for proxy in get_proxies() if proxy.https]\n",
    "\n",
    "proxy_arg = f\"\"\"--proxy-server={','.join([\n",
    "    f'https://{proxy.ip}:{proxy.port}'\n",
    "    for proxy in proxies\n",
    "] + ['direct://'])}\"\"\""
   ],
   "outputs": [],
   "execution_count": 6
  },
  {
   "cell_type": "markdown",
   "id": "36ee46850609752",
   "metadata": {},
   "source": "Use `ngrok` to expose port `18080`. We'll use this as a https proxy."
  },
  {
   "cell_type": "code",
   "id": "9adaf4f83f77de5f",
   "metadata": {
    "ExecuteTime": {
     "end_time": "2024-12-12T07:06:46.252754Z",
     "start_time": "2024-12-12T07:06:46.249734Z"
    }
   },
   "source": [
    "# tcp_tunnel = ngrok.connect(\"18080\", \"tcp\")\n",
    "self_proxy = f\"https://6.tcp.us-cal-1.ngrok.io:17441\"\n",
    "self_proxy_arg = f\"--proxy-server={self_proxy},direct://\"\n",
    "# tcp_tunnel\n",
    "self_proxy"
   ],
   "outputs": [
    {
     "data": {
      "text/plain": [
       "'https://6.tcp.us-cal-1.ngrok.io:17441'"
      ]
     },
     "execution_count": 7,
     "metadata": {},
     "output_type": "execute_result"
    }
   ],
   "execution_count": 7
  },
  {
   "cell_type": "markdown",
   "id": "aaef23a7507d7c0",
   "metadata": {},
   "source": [
    "Create 10 pipelines, each doing these steps for YouTube, Vimeo, and Twitch:\n",
    "- watch video without proxies or background traffic\n",
    "- watch video using a proxy from https://free-proxy-list.net/ but no background traffic\n",
    "- watch video using the host machine as a proxy but no background traffic\n",
    "- watch video without proxies but with background traffic\n",
    "\n",
    "Each pipeline then uploads the result to http://snl-server-5.cs.ucsb.edu/cs190n/cs190n4/capture"
   ]
  },
  {
   "cell_type": "code",
   "id": "3fb17ba08afe12c9",
   "metadata": {
    "ExecuteTime": {
     "end_time": "2024-12-12T07:06:46.267456Z",
     "start_time": "2024-12-12T07:06:46.262803Z"
    }
   },
   "source": [
    "from netunicorn.base import Task\n",
    "from collections.abc import Callable\n",
    "from typing import Type\n",
    "\n",
    "watch_tasks: dict[\n",
    "    str,\n",
    "    tuple[Type[WatchYouTubeVideo | WatchVimeoVideo | WatchTwitchStream], list[str]]\n",
    "] = {\n",
    "    'youtube': (WatchYouTubeVideo, youtube_videos),\n",
    "    'vimeo': (WatchVimeoVideo, vimeo_videos),\n",
    "    'twitch': (WatchTwitchStream, twitch_videos),\n",
    "}\n",
    "\n",
    "watch_types: dict[str, dict[str, any]] = {\n",
    "    '_': {\n",
    "        'get_processes': lambda name: [\n",
    "            [\"sudo\", \"tcpdump\", \"-i\", \"any\", \"-U\", \"-w\", f\"{name}.pcap\"]\n",
    "        ],\n",
    "        'requirements': [\n",
    "            \"sudo apt-get update\",\n",
    "            \"sudo apt-get install -y tcpdump\"\n",
    "        ]\n",
    "    },\n",
    "    '_proxy_': {\n",
    "        'get_processes': lambda name: [\n",
    "            [\"sudo\", \"tcpdump\", \"-i\", \"any\", \"-U\", \"-w\", f\"{name}.pcap\"]\n",
    "        ],\n",
    "        'webdriver_arguments': [proxy_arg],\n",
    "        'requirements': [\n",
    "            \"sudo apt-get update\",\n",
    "            \"sudo apt-get install -y tcpdump\"\n",
    "        ]\n",
    "    },\n",
    "    '_proxy1_': {\n",
    "        'get_processes': lambda name: [\n",
    "            [\"sudo\", \"tcpdump\", \"-i\", \"any\", \"-U\", \"-w\", f\"{name}.pcap\"]\n",
    "        ],\n",
    "        'webdriver_arguments': [self_proxy_arg],\n",
    "        'requirements': [\n",
    "            \"sudo apt-get update\",\n",
    "            \"sudo apt-get install -y tcpdump\"\n",
    "        ]\n",
    "    },\n",
    "    '_speedtest_': {\n",
    "        'get_processes': lambda name: [\n",
    "            [\"sudo\", \"tcpdump\", \"-i\", \"any\", \"-U\", \"-w\", f\"{name}.pcap\"],\n",
    "            [\"sh\", \"-c\", \"while true; do speedtest-cli --simple --secure; done\"]\n",
    "        ],\n",
    "        'requirements': [\n",
    "            \"sudo apt-get update\",\n",
    "            \"sudo apt-get install -y tcpdump\",\n",
    "            \"pip install speedtest-cli\"\n",
    "        ]\n",
    "    }\n",
    "}\n",
    "\n",
    "def generate_pipeline(subdirectory: str) -> Pipeline:\n",
    "    pipeline = Pipeline(early_stopping=False)\n",
    "    \n",
    "    for i in range(10):\n",
    "        for watch_type, kwargs in watch_types.items():\n",
    "            for site, (TaskImpl, videos) in watch_tasks.items():\n",
    "                name = f\"{site}{watch_type}{i}\"\n",
    "    \n",
    "                pipeline.then(TaskImpl(\n",
    "                    video_url=videos,\n",
    "                    duration=30,\n",
    "                    headless=False,\n",
    "                    name=f\"{site}{watch_type}{i}\",\n",
    "                    **kwargs\n",
    "                ))\n",
    "        \n",
    "                pipeline.then(UploadToWebDav(\n",
    "                    filepaths={f\"{name}.pcap\"},\n",
    "                    endpoint=\"http://snl-server-5.cs.ucsb.edu/cs190n/cs190n4/capture\",\n",
    "                    username=\"uploader\",\n",
    "                    password=\"uploader\",\n",
    "                    subdirectory=subdirectory,\n",
    "                    name=f\"upload_{site}{watch_type}{i}\"\n",
    "                ))\n",
    "    \n",
    "    return pipeline"
   ],
   "outputs": [],
   "execution_count": 8
  },
  {
   "cell_type": "code",
   "id": "d0ffd8b2134a186b",
   "metadata": {
    "ExecuteTime": {
     "end_time": "2024-12-12T07:06:46.275289Z",
     "start_time": "2024-12-12T07:06:46.273442Z"
    }
   },
   "source": [
    "# working_node = \"snl\"\n",
    "# experiment_label = \"team-4-experiment-10\""
   ],
   "outputs": [],
   "execution_count": 9
  },
  {
   "cell_type": "code",
   "id": "d2e3ded0978edf07",
   "metadata": {
    "ExecuteTime": {
     "start_time": "2024-12-12T07:08:42.276991Z"
    }
   },
   "source": [
    "import asyncio\n",
    "# with open(\"./proxy_out.log\", \"w\") as stdout, open(\"./proxy_err.log\", \"w\") as stderr:\n",
    "#     proxy_env = os.environ.copy()\n",
    "#     proxy_env[\"PORT\"] = \"18080\"\n",
    "#     proxy_process = subprocess.Popen([\"node\", \"proxy.js\"], env=proxy_env, stdout=stdout, stderr=stderr)\n",
    "#     result = execute_pipeline(pipelines, working_node, experiment_label)\n",
    "#     proxy_process.terminate()\n",
    "\n",
    "from netunicorn.base import Node, Architecture\n",
    "\n",
    "subdirectory = str(uuid4())\n",
    "pipeline = generate_pipeline(subdirectory)\n",
    "current_tasks = set(pipeline.graph[12].keys())\n",
    "local_node = Node(name=\"local\", properties={}, architecture=Architecture.LINUX_AMD64)\n",
    "loop = asyncio.get_running_loop()\n",
    "\n",
    "print(\"subdirectory:\", subdirectory)\n",
    "\n",
    "while current_tasks:\n",
    "    task = current_tasks.pop()\n",
    "    print(\"Running\", task.name)\n",
    "    await loop.run_in_executor(None, lambda: print(task.dispatch(local_node).run()))\n",
    "    for i in set(pipeline.graph.succ[task].keys()):\n",
    "        current_tasks.update(set(pipeline.graph.succ[i].keys()))\n",
    "\n",
    "pipeline"
   ],
   "outputs": [
    {
     "name": "stdout",
     "output_type": "stream",
     "text": [
      "subdirectory: ba0f33aa-dafa-4763-8e61-f0aa3705e7c9\n",
      "Running youtube_proxy1_0\n"
     ]
    },
    {
     "name": "stderr",
     "output_type": "stream",
     "text": [
      "tcpdump: data link type PKTAP\n",
      "tcpdump: listening on any, link-type PKTAP (Apple DLT_PKTAP), snapshot length 524288 bytes\n"
     ]
    },
    {
     "name": "stdout",
     "output_type": "stream",
     "text": [
      "Running upload_youtube_proxy1_0\n"
     ]
    },
    {
     "name": "stderr",
     "output_type": "stream",
     "text": [
      "75877 packets captured\n",
      "76284 packets received by filter\n",
      "133 packets dropped by kernel\n"
     ]
    },
    {
     "name": "stdout",
     "output_type": "stream",
     "text": [
      "Running vimeo_proxy1_0\n"
     ]
    },
    {
     "name": "stderr",
     "output_type": "stream",
     "text": [
      "tcpdump: data link type PKTAP\n",
      "tcpdump: listening on any, link-type PKTAP (Apple DLT_PKTAP), snapshot length 524288 bytes\n"
     ]
    },
    {
     "name": "stdout",
     "output_type": "stream",
     "text": [
      "Running upload_vimeo_proxy1_0\n"
     ]
    },
    {
     "name": "stderr",
     "output_type": "stream",
     "text": [
      "138780 packets captured\n",
      "139435 packets received by filter\n",
      "622 packets dropped by kernel\n"
     ]
    },
    {
     "name": "stdout",
     "output_type": "stream",
     "text": [
      "Running twitch_proxy1_0\n"
     ]
    },
    {
     "name": "stderr",
     "output_type": "stream",
     "text": [
      "tcpdump: data link type PKTAP\n",
      "tcpdump: listening on any, link-type PKTAP (Apple DLT_PKTAP), snapshot length 524288 bytes\n"
     ]
    },
    {
     "name": "stdout",
     "output_type": "stream",
     "text": [
      "Running upload_twitch_proxy1_0\n"
     ]
    },
    {
     "name": "stderr",
     "output_type": "stream",
     "text": [
      "104324 packets captured\n",
      "105021 packets received by filter\n",
      "557 packets dropped by kernel\n"
     ]
    },
    {
     "name": "stdout",
     "output_type": "stream",
     "text": [
      "Running youtube_speedtest_0\n"
     ]
    },
    {
     "name": "stderr",
     "output_type": "stream",
     "text": [
      "tcpdump: data link type PKTAP\n",
      "tcpdump: listening on any, link-type PKTAP (Apple DLT_PKTAP), snapshot length 524288 bytes\n",
      "/opt/homebrew/bin/speedtest-cli:960: DeprecationWarning: datetime.datetime.utcnow() is deprecated and scheduled for removal in a future version. Use timezone-aware objects to represent datetimes in UTC: datetime.datetime.now(datetime.UTC).\n",
      "  self.timestamp = '%sZ' % datetime.datetime.utcnow().isoformat()\n",
      "/opt/homebrew/bin/speedtest-cli:960: DeprecationWarning: datetime.datetime.utcnow() is deprecated and scheduled for removal in a future version. Use timezone-aware objects to represent datetimes in UTC: datetime.datetime.now(datetime.UTC).\n",
      "  self.timestamp = '%sZ' % datetime.datetime.utcnow().isoformat()\n",
      "/opt/homebrew/bin/speedtest-cli:960: DeprecationWarning: datetime.datetime.utcnow() is deprecated and scheduled for removal in a future version. Use timezone-aware objects to represent datetimes in UTC: datetime.datetime.now(datetime.UTC).\n",
      "  self.timestamp = '%sZ' % datetime.datetime.utcnow().isoformat()\n",
      "/opt/homebrew/bin/speedtest-cli:960: DeprecationWarning: datetime.datetime.utcnow() is deprecated and scheduled for removal in a future version. Use timezone-aware objects to represent datetimes in UTC: datetime.datetime.now(datetime.UTC).\n",
      "  self.timestamp = '%sZ' % datetime.datetime.utcnow().isoformat()\n",
      "/opt/homebrew/bin/speedtest-cli:960: DeprecationWarning: datetime.datetime.utcnow() is deprecated and scheduled for removal in a future version. Use timezone-aware objects to represent datetimes in UTC: datetime.datetime.now(datetime.UTC).\n",
      "  self.timestamp = '%sZ' % datetime.datetime.utcnow().isoformat()\n",
      "/opt/homebrew/bin/speedtest-cli:960: DeprecationWarning: datetime.datetime.utcnow() is deprecated and scheduled for removal in a future version. Use timezone-aware objects to represent datetimes in UTC: datetime.datetime.now(datetime.UTC).\n",
      "  self.timestamp = '%sZ' % datetime.datetime.utcnow().isoformat()\n",
      "/opt/homebrew/bin/speedtest-cli:960: DeprecationWarning: datetime.datetime.utcnow() is deprecated and scheduled for removal in a future version. Use timezone-aware objects to represent datetimes in UTC: datetime.datetime.now(datetime.UTC).\n",
      "  self.timestamp = '%sZ' % datetime.datetime.utcnow().isoformat()\n",
      "/opt/homebrew/bin/speedtest-cli:960: DeprecationWarning: datetime.datetime.utcnow() is deprecated and scheduled for removal in a future version. Use timezone-aware objects to represent datetimes in UTC: datetime.datetime.now(datetime.UTC).\n",
      "  self.timestamp = '%sZ' % datetime.datetime.utcnow().isoformat()\n",
      "/opt/homebrew/bin/speedtest-cli:960: DeprecationWarning: datetime.datetime.utcnow() is deprecated and scheduled for removal in a future version. Use timezone-aware objects to represent datetimes in UTC: datetime.datetime.now(datetime.UTC).\n",
      "  self.timestamp = '%sZ' % datetime.datetime.utcnow().isoformat()\n",
      "/opt/homebrew/bin/speedtest-cli:960: DeprecationWarning: datetime.datetime.utcnow() is deprecated and scheduled for removal in a future version. Use timezone-aware objects to represent datetimes in UTC: datetime.datetime.now(datetime.UTC).\n",
      "  self.timestamp = '%sZ' % datetime.datetime.utcnow().isoformat()\n"
     ]
    },
    {
     "name": "stdout",
     "output_type": "stream",
     "text": [
      "Running upload_youtube_speedtest_0\n"
     ]
    },
    {
     "name": "stderr",
     "output_type": "stream",
     "text": [
      "3919923 packets captured\n",
      "4009647 packets received by filter\n",
      "89672 packets dropped by kernel\n"
     ]
    },
    {
     "name": "stdout",
     "output_type": "stream",
     "text": [
      "Running vimeo_speedtest_0\n"
     ]
    },
    {
     "name": "stderr",
     "output_type": "stream",
     "text": [
      "tcpdump: data link type PKTAP\n",
      "tcpdump: listening on any, link-type PKTAP (Apple DLT_PKTAP), snapshot length 524288 bytes\n",
      "/opt/homebrew/bin/speedtest-cli:960: DeprecationWarning: datetime.datetime.utcnow() is deprecated and scheduled for removal in a future version. Use timezone-aware objects to represent datetimes in UTC: datetime.datetime.now(datetime.UTC).\n",
      "  self.timestamp = '%sZ' % datetime.datetime.utcnow().isoformat()\n",
      "/opt/homebrew/bin/speedtest-cli:960: DeprecationWarning: datetime.datetime.utcnow() is deprecated and scheduled for removal in a future version. Use timezone-aware objects to represent datetimes in UTC: datetime.datetime.now(datetime.UTC).\n",
      "  self.timestamp = '%sZ' % datetime.datetime.utcnow().isoformat()\n",
      "/opt/homebrew/bin/speedtest-cli:960: DeprecationWarning: datetime.datetime.utcnow() is deprecated and scheduled for removal in a future version. Use timezone-aware objects to represent datetimes in UTC: datetime.datetime.now(datetime.UTC).\n",
      "  self.timestamp = '%sZ' % datetime.datetime.utcnow().isoformat()\n",
      "/opt/homebrew/bin/speedtest-cli:960: DeprecationWarning: datetime.datetime.utcnow() is deprecated and scheduled for removal in a future version. Use timezone-aware objects to represent datetimes in UTC: datetime.datetime.now(datetime.UTC).\n",
      "  self.timestamp = '%sZ' % datetime.datetime.utcnow().isoformat()\n",
      "/opt/homebrew/bin/speedtest-cli:960: DeprecationWarning: datetime.datetime.utcnow() is deprecated and scheduled for removal in a future version. Use timezone-aware objects to represent datetimes in UTC: datetime.datetime.now(datetime.UTC).\n",
      "  self.timestamp = '%sZ' % datetime.datetime.utcnow().isoformat()\n",
      "/opt/homebrew/bin/speedtest-cli:960: DeprecationWarning: datetime.datetime.utcnow() is deprecated and scheduled for removal in a future version. Use timezone-aware objects to represent datetimes in UTC: datetime.datetime.now(datetime.UTC).\n",
      "  self.timestamp = '%sZ' % datetime.datetime.utcnow().isoformat()\n",
      "/opt/homebrew/bin/speedtest-cli:960: DeprecationWarning: datetime.datetime.utcnow() is deprecated and scheduled for removal in a future version. Use timezone-aware objects to represent datetimes in UTC: datetime.datetime.now(datetime.UTC).\n",
      "  self.timestamp = '%sZ' % datetime.datetime.utcnow().isoformat()\n",
      "ERROR: Unable to connect to servers to test latency.\n",
      "/opt/homebrew/bin/speedtest-cli:960: DeprecationWarning: datetime.datetime.utcnow() is deprecated and scheduled for removal in a future version. Use timezone-aware objects to represent datetimes in UTC: datetime.datetime.now(datetime.UTC).\n",
      "  self.timestamp = '%sZ' % datetime.datetime.utcnow().isoformat()\n",
      "ERROR: Unable to connect to servers to test latency.\n",
      "/opt/homebrew/bin/speedtest-cli:960: DeprecationWarning: datetime.datetime.utcnow() is deprecated and scheduled for removal in a future version. Use timezone-aware objects to represent datetimes in UTC: datetime.datetime.now(datetime.UTC).\n",
      "  self.timestamp = '%sZ' % datetime.datetime.utcnow().isoformat()\n",
      "/opt/homebrew/bin/speedtest-cli:960: DeprecationWarning: datetime.datetime.utcnow() is deprecated and scheduled for removal in a future version. Use timezone-aware objects to represent datetimes in UTC: datetime.datetime.now(datetime.UTC).\n",
      "  self.timestamp = '%sZ' % datetime.datetime.utcnow().isoformat()\n",
      "/opt/homebrew/bin/speedtest-cli:960: DeprecationWarning: datetime.datetime.utcnow() is deprecated and scheduled for removal in a future version. Use timezone-aware objects to represent datetimes in UTC: datetime.datetime.now(datetime.UTC).\n",
      "  self.timestamp = '%sZ' % datetime.datetime.utcnow().isoformat()\n",
      "/opt/homebrew/bin/speedtest-cli:960: DeprecationWarning: datetime.datetime.utcnow() is deprecated and scheduled for removal in a future version. Use timezone-aware objects to represent datetimes in UTC: datetime.datetime.now(datetime.UTC).\n",
      "  self.timestamp = '%sZ' % datetime.datetime.utcnow().isoformat()\n",
      "/opt/homebrew/bin/speedtest-cli:960: DeprecationWarning: datetime.datetime.utcnow() is deprecated and scheduled for removal in a future version. Use timezone-aware objects to represent datetimes in UTC: datetime.datetime.now(datetime.UTC).\n",
      "  self.timestamp = '%sZ' % datetime.datetime.utcnow().isoformat()\n"
     ]
    },
    {
     "name": "stdout",
     "output_type": "stream",
     "text": [
      "Running upload_vimeo_speedtest_0\n"
     ]
    },
    {
     "name": "stderr",
     "output_type": "stream",
     "text": [
      "4182006 packets captured\n",
      "4275502 packets received by filter\n",
      "93462 packets dropped by kernel\n"
     ]
    },
    {
     "name": "stdout",
     "output_type": "stream",
     "text": [
      "Running twitch_speedtest_0\n"
     ]
    },
    {
     "name": "stderr",
     "output_type": "stream",
     "text": [
      "tcpdump: data link type PKTAP\n",
      "tcpdump: listening on any, link-type PKTAP (Apple DLT_PKTAP), snapshot length 524288 bytes\n",
      "/opt/homebrew/bin/speedtest-cli:960: DeprecationWarning: datetime.datetime.utcnow() is deprecated and scheduled for removal in a future version. Use timezone-aware objects to represent datetimes in UTC: datetime.datetime.now(datetime.UTC).\n",
      "  self.timestamp = '%sZ' % datetime.datetime.utcnow().isoformat()\n",
      "/opt/homebrew/bin/speedtest-cli:960: DeprecationWarning: datetime.datetime.utcnow() is deprecated and scheduled for removal in a future version. Use timezone-aware objects to represent datetimes in UTC: datetime.datetime.now(datetime.UTC).\n",
      "  self.timestamp = '%sZ' % datetime.datetime.utcnow().isoformat()\n",
      "/opt/homebrew/bin/speedtest-cli:960: DeprecationWarning: datetime.datetime.utcnow() is deprecated and scheduled for removal in a future version. Use timezone-aware objects to represent datetimes in UTC: datetime.datetime.now(datetime.UTC).\n",
      "  self.timestamp = '%sZ' % datetime.datetime.utcnow().isoformat()\n",
      "/opt/homebrew/bin/speedtest-cli:960: DeprecationWarning: datetime.datetime.utcnow() is deprecated and scheduled for removal in a future version. Use timezone-aware objects to represent datetimes in UTC: datetime.datetime.now(datetime.UTC).\n",
      "  self.timestamp = '%sZ' % datetime.datetime.utcnow().isoformat()\n",
      "/opt/homebrew/bin/speedtest-cli:960: DeprecationWarning: datetime.datetime.utcnow() is deprecated and scheduled for removal in a future version. Use timezone-aware objects to represent datetimes in UTC: datetime.datetime.now(datetime.UTC).\n",
      "  self.timestamp = '%sZ' % datetime.datetime.utcnow().isoformat()\n",
      "/opt/homebrew/bin/speedtest-cli:960: DeprecationWarning: datetime.datetime.utcnow() is deprecated and scheduled for removal in a future version. Use timezone-aware objects to represent datetimes in UTC: datetime.datetime.now(datetime.UTC).\n",
      "  self.timestamp = '%sZ' % datetime.datetime.utcnow().isoformat()\n",
      "/opt/homebrew/bin/speedtest-cli:960: DeprecationWarning: datetime.datetime.utcnow() is deprecated and scheduled for removal in a future version. Use timezone-aware objects to represent datetimes in UTC: datetime.datetime.now(datetime.UTC).\n",
      "  self.timestamp = '%sZ' % datetime.datetime.utcnow().isoformat()\n",
      "/opt/homebrew/bin/speedtest-cli:960: DeprecationWarning: datetime.datetime.utcnow() is deprecated and scheduled for removal in a future version. Use timezone-aware objects to represent datetimes in UTC: datetime.datetime.now(datetime.UTC).\n",
      "  self.timestamp = '%sZ' % datetime.datetime.utcnow().isoformat()\n",
      "/opt/homebrew/bin/speedtest-cli:960: DeprecationWarning: datetime.datetime.utcnow() is deprecated and scheduled for removal in a future version. Use timezone-aware objects to represent datetimes in UTC: datetime.datetime.now(datetime.UTC).\n",
      "  self.timestamp = '%sZ' % datetime.datetime.utcnow().isoformat()\n"
     ]
    },
    {
     "name": "stdout",
     "output_type": "stream",
     "text": [
      "Running upload_twitch_speedtest_0\n"
     ]
    },
    {
     "name": "stderr",
     "output_type": "stream",
     "text": [
      "3557140 packets captured\n",
      "3610037 packets received by filter\n",
      "52896 packets dropped by kernel\n"
     ]
    },
    {
     "name": "stdout",
     "output_type": "stream",
     "text": [
      "Running youtube_1\n"
     ]
    },
    {
     "name": "stderr",
     "output_type": "stream",
     "text": [
      "tcpdump: data link type PKTAP\n",
      "tcpdump: listening on any, link-type PKTAP (Apple DLT_PKTAP), snapshot length 524288 bytes\n"
     ]
    },
    {
     "name": "stdout",
     "output_type": "stream",
     "text": [
      "Running upload_youtube_1\n"
     ]
    },
    {
     "name": "stderr",
     "output_type": "stream",
     "text": [
      "132852 packets captured\n",
      "133635 packets received by filter\n",
      "648 packets dropped by kernel\n"
     ]
    },
    {
     "name": "stdout",
     "output_type": "stream",
     "text": [
      "Running vimeo_1\n"
     ]
    },
    {
     "name": "stderr",
     "output_type": "stream",
     "text": [
      "tcpdump: data link type PKTAP\n",
      "tcpdump: listening on any, link-type PKTAP (Apple DLT_PKTAP), snapshot length 524288 bytes\n"
     ]
    },
    {
     "name": "stdout",
     "output_type": "stream",
     "text": [
      "Running upload_vimeo_1\n"
     ]
    },
    {
     "name": "stderr",
     "output_type": "stream",
     "text": [
      "131216 packets captured\n",
      "131459 packets received by filter\n",
      "97 packets dropped by kernel\n"
     ]
    },
    {
     "name": "stdout",
     "output_type": "stream",
     "text": [
      "Running twitch_1\n"
     ]
    },
    {
     "name": "stderr",
     "output_type": "stream",
     "text": [
      "tcpdump: data link type PKTAP\n",
      "tcpdump: listening on any, link-type PKTAP (Apple DLT_PKTAP), snapshot length 524288 bytes\n"
     ]
    },
    {
     "name": "stdout",
     "output_type": "stream",
     "text": [
      "Running upload_twitch_1\n"
     ]
    },
    {
     "name": "stderr",
     "output_type": "stream",
     "text": [
      "97243 packets captured\n",
      "97840 packets received by filter\n",
      "234 packets dropped by kernel\n"
     ]
    },
    {
     "name": "stdout",
     "output_type": "stream",
     "text": [
      "Running youtube_proxy_1\n"
     ]
    },
    {
     "name": "stderr",
     "output_type": "stream",
     "text": [
      "tcpdump: data link type PKTAP\n",
      "tcpdump: listening on any, link-type PKTAP (Apple DLT_PKTAP), snapshot length 524288 bytes\n"
     ]
    },
    {
     "name": "stdout",
     "output_type": "stream",
     "text": [
      "Running upload_youtube_proxy_1\n"
     ]
    },
    {
     "name": "stderr",
     "output_type": "stream",
     "text": [
      "37738 packets captured\n",
      "38049 packets received by filter\n",
      "0 packets dropped by kernel\n"
     ]
    },
    {
     "name": "stdout",
     "output_type": "stream",
     "text": [
      "Running vimeo_proxy_1\n"
     ]
    },
    {
     "name": "stderr",
     "output_type": "stream",
     "text": [
      "tcpdump: data link type PKTAP\n",
      "tcpdump: listening on any, link-type PKTAP (Apple DLT_PKTAP), snapshot length 524288 bytes\n",
      "8536 packets captured\n",
      "8622 packets received by filter\n",
      "0 packets dropped by kernel\n"
     ]
    },
    {
     "ename": "TimeoutError",
     "evalue": "Page.goto: Timeout 30000ms exceeded.\nCall log:\n  - navigating to \"https://vimeo.com/375468729?autoplay=1\", waiting until \"load\"\n",
     "output_type": "error",
     "traceback": [
      "\u001B[0;31m---------------------------------------------------------------------------\u001B[0m",
      "\u001B[0;31mTimeoutError\u001B[0m                              Traceback (most recent call last)",
      "Cell \u001B[0;32mIn[11], line 22\u001B[0m\n\u001B[1;32m     20\u001B[0m task \u001B[38;5;241m=\u001B[39m current_tasks\u001B[38;5;241m.\u001B[39mpop()\n\u001B[1;32m     21\u001B[0m \u001B[38;5;28mprint\u001B[39m(\u001B[38;5;124m\"\u001B[39m\u001B[38;5;124mRunning\u001B[39m\u001B[38;5;124m\"\u001B[39m, task\u001B[38;5;241m.\u001B[39mname)\n\u001B[0;32m---> 22\u001B[0m \u001B[38;5;28;01mawait\u001B[39;00m loop\u001B[38;5;241m.\u001B[39mrun_in_executor(\u001B[38;5;28;01mNone\u001B[39;00m, \u001B[38;5;28;01mlambda\u001B[39;00m: \u001B[38;5;28mprint\u001B[39m(task\u001B[38;5;241m.\u001B[39mdispatch(local_node)\u001B[38;5;241m.\u001B[39mrun()))\n\u001B[1;32m     23\u001B[0m \u001B[38;5;28;01mfor\u001B[39;00m i \u001B[38;5;129;01min\u001B[39;00m \u001B[38;5;28mset\u001B[39m(pipeline\u001B[38;5;241m.\u001B[39mgraph\u001B[38;5;241m.\u001B[39msucc[task]\u001B[38;5;241m.\u001B[39mkeys()):\n\u001B[1;32m     24\u001B[0m     current_tasks\u001B[38;5;241m.\u001B[39mupdate(\u001B[38;5;28mset\u001B[39m(pipeline\u001B[38;5;241m.\u001B[39mgraph\u001B[38;5;241m.\u001B[39msucc[i]\u001B[38;5;241m.\u001B[39mkeys()))\n",
      "File \u001B[0;32m/Library/Frameworks/Python.framework/Versions/3.10/lib/python3.10/concurrent/futures/thread.py:58\u001B[0m, in \u001B[0;36m_WorkItem.run\u001B[0;34m(self)\u001B[0m\n\u001B[1;32m     55\u001B[0m     \u001B[38;5;28;01mreturn\u001B[39;00m\n\u001B[1;32m     57\u001B[0m \u001B[38;5;28;01mtry\u001B[39;00m:\n\u001B[0;32m---> 58\u001B[0m     result \u001B[38;5;241m=\u001B[39m \u001B[38;5;28;43mself\u001B[39;49m\u001B[38;5;241;43m.\u001B[39;49m\u001B[43mfn\u001B[49m\u001B[43m(\u001B[49m\u001B[38;5;241;43m*\u001B[39;49m\u001B[38;5;28;43mself\u001B[39;49m\u001B[38;5;241;43m.\u001B[39;49m\u001B[43margs\u001B[49m\u001B[43m,\u001B[49m\u001B[43m \u001B[49m\u001B[38;5;241;43m*\u001B[39;49m\u001B[38;5;241;43m*\u001B[39;49m\u001B[38;5;28;43mself\u001B[39;49m\u001B[38;5;241;43m.\u001B[39;49m\u001B[43mkwargs\u001B[49m\u001B[43m)\u001B[49m\n\u001B[1;32m     59\u001B[0m \u001B[38;5;28;01mexcept\u001B[39;00m \u001B[38;5;167;01mBaseException\u001B[39;00m \u001B[38;5;28;01mas\u001B[39;00m exc:\n\u001B[1;32m     60\u001B[0m     \u001B[38;5;28mself\u001B[39m\u001B[38;5;241m.\u001B[39mfuture\u001B[38;5;241m.\u001B[39mset_exception(exc)\n",
      "Cell \u001B[0;32mIn[11], line 22\u001B[0m, in \u001B[0;36m<lambda>\u001B[0;34m()\u001B[0m\n\u001B[1;32m     20\u001B[0m task \u001B[38;5;241m=\u001B[39m current_tasks\u001B[38;5;241m.\u001B[39mpop()\n\u001B[1;32m     21\u001B[0m \u001B[38;5;28mprint\u001B[39m(\u001B[38;5;124m\"\u001B[39m\u001B[38;5;124mRunning\u001B[39m\u001B[38;5;124m\"\u001B[39m, task\u001B[38;5;241m.\u001B[39mname)\n\u001B[0;32m---> 22\u001B[0m \u001B[38;5;28;01mawait\u001B[39;00m loop\u001B[38;5;241m.\u001B[39mrun_in_executor(\u001B[38;5;28;01mNone\u001B[39;00m, \u001B[38;5;28;01mlambda\u001B[39;00m: \u001B[38;5;28mprint\u001B[39m(task\u001B[38;5;241m.\u001B[39mdispatch(local_node)\u001B[38;5;241m.\u001B[39mrun()))\n\u001B[1;32m     23\u001B[0m \u001B[38;5;28;01mfor\u001B[39;00m i \u001B[38;5;129;01min\u001B[39;00m \u001B[38;5;28mset\u001B[39m(pipeline\u001B[38;5;241m.\u001B[39mgraph\u001B[38;5;241m.\u001B[39msucc[task]\u001B[38;5;241m.\u001B[39mkeys()):\n\u001B[1;32m     24\u001B[0m     current_tasks\u001B[38;5;241m.\u001B[39mupdate(\u001B[38;5;28mset\u001B[39m(pipeline\u001B[38;5;241m.\u001B[39mgraph\u001B[38;5;241m.\u001B[39msucc[i]\u001B[38;5;241m.\u001B[39mkeys()))\n",
      "File \u001B[0;32m~/PycharmProjects/ucsb-cs190n-f24-group-4/vimeo_watcher.py:273\u001B[0m, in \u001B[0;36mWatchVimeoVideoLinuxImplementation.run\u001B[0;34m(self)\u001B[0m\n\u001B[1;32m    272\u001B[0m \u001B[38;5;28;01mdef\u001B[39;00m \u001B[38;5;21mrun\u001B[39m(\u001B[38;5;28mself\u001B[39m):\n\u001B[0;32m--> 273\u001B[0m     \u001B[38;5;28;01mreturn\u001B[39;00m \u001B[43mWatchVimeoVideo\u001B[49m\u001B[38;5;241;43m.\u001B[39;49m\u001B[43mwatch\u001B[49m\u001B[43m(\u001B[49m\n\u001B[1;32m    274\u001B[0m \u001B[43m        \u001B[49m\u001B[38;5;28;43mself\u001B[39;49m\u001B[38;5;241;43m.\u001B[39;49m\u001B[43mvideo_url\u001B[49m\u001B[43m,\u001B[49m\n\u001B[1;32m    275\u001B[0m \u001B[43m        \u001B[49m\u001B[38;5;28;43mself\u001B[39;49m\u001B[38;5;241;43m.\u001B[39;49m\u001B[43mduration\u001B[49m\u001B[43m,\u001B[49m\n\u001B[1;32m    276\u001B[0m \u001B[43m        \u001B[49m\u001B[38;5;28;43mself\u001B[39;49m\u001B[38;5;241;43m.\u001B[39;49m\u001B[43mchrome_location\u001B[49m\u001B[43m,\u001B[49m\n\u001B[1;32m    277\u001B[0m \u001B[43m        \u001B[49m\u001B[38;5;28;43mself\u001B[39;49m\u001B[38;5;241;43m.\u001B[39;49m\u001B[43mwebdriver_arguments\u001B[49m\u001B[43m,\u001B[49m\n\u001B[1;32m    278\u001B[0m \u001B[43m        \u001B[49m\u001B[38;5;28;43mself\u001B[39;49m\u001B[38;5;241;43m.\u001B[39;49m\u001B[43mextensions\u001B[49m\u001B[43m,\u001B[49m\n\u001B[1;32m    279\u001B[0m \u001B[43m        \u001B[49m\u001B[38;5;28;43mself\u001B[39;49m\u001B[38;5;241;43m.\u001B[39;49m\u001B[43mheadless\u001B[49m\u001B[43m,\u001B[49m\n\u001B[1;32m    280\u001B[0m \u001B[43m        \u001B[49m\u001B[38;5;28;43;01mNone\u001B[39;49;00m\u001B[43m \u001B[49m\u001B[38;5;28;43;01mif\u001B[39;49;00m\u001B[43m \u001B[49m\u001B[38;5;28;43mself\u001B[39;49m\u001B[38;5;241;43m.\u001B[39;49m\u001B[43mget_processes\u001B[49m\u001B[43m \u001B[49m\u001B[38;5;129;43;01mis\u001B[39;49;00m\u001B[43m \u001B[49m\u001B[38;5;28;43;01mNone\u001B[39;49;00m\u001B[43m \u001B[49m\u001B[38;5;28;43;01melse\u001B[39;49;00m\u001B[43m \u001B[49m\u001B[38;5;28;43mself\u001B[39;49m\u001B[38;5;241;43m.\u001B[39;49m\u001B[43mget_processes\u001B[49m\u001B[43m(\u001B[49m\u001B[38;5;28;43mself\u001B[39;49m\u001B[38;5;241;43m.\u001B[39;49m\u001B[43mname\u001B[49m\u001B[43m)\u001B[49m\n\u001B[1;32m    281\u001B[0m \u001B[43m    \u001B[49m\u001B[43m)\u001B[49m\n",
      "File \u001B[0;32m~/PycharmProjects/ucsb-cs190n-f24-group-4/vimeo_watcher.py:105\u001B[0m, in \u001B[0;36mWatchVimeoVideo.watch\u001B[0;34m(urls, duration, chrome_location, webdriver_arguments, extensions, headless, processes)\u001B[0m\n\u001B[1;32m     97\u001B[0m \u001B[38;5;28;01mwith\u001B[39;00m sync_playwright() \u001B[38;5;28;01mas\u001B[39;00m p, p\u001B[38;5;241m.\u001B[39mchromium\u001B[38;5;241m.\u001B[39mlaunch(\n\u001B[1;32m     98\u001B[0m     headless\u001B[38;5;241m=\u001B[39mheadless,\n\u001B[1;32m     99\u001B[0m     executable_path\u001B[38;5;241m=\u001B[39mchrome_location,\n\u001B[0;32m   (...)\u001B[0m\n\u001B[1;32m    102\u001B[0m     user_agent\u001B[38;5;241m=\u001B[39m\u001B[38;5;124m\"\u001B[39m\u001B[38;5;124mMozilla/5.0 (X11; Linux x86_64) AppleWebKit/537.36 (KHTML, like Gecko) Chrome/131.0.0.0 Safari/537.36\u001B[39m\u001B[38;5;124m\"\u001B[39m\n\u001B[1;32m    103\u001B[0m ) \u001B[38;5;28;01mas\u001B[39;00m page:\n\u001B[1;32m    104\u001B[0m     \u001B[38;5;28;01mfor\u001B[39;00m url \u001B[38;5;129;01min\u001B[39;00m urls:\n\u001B[0;32m--> 105\u001B[0m         \u001B[43mpage\u001B[49m\u001B[38;5;241;43m.\u001B[39;49m\u001B[43mgoto\u001B[49m\u001B[43m(\u001B[49m\u001B[43murl\u001B[49m\u001B[43m)\u001B[49m\n\u001B[1;32m    107\u001B[0m         \u001B[38;5;28;01mtry\u001B[39;00m:\n\u001B[1;32m    108\u001B[0m             paused \u001B[38;5;241m=\u001B[39m page\u001B[38;5;241m.\u001B[39mlocator(\u001B[38;5;124m'\u001B[39m\u001B[38;5;124mvideo\u001B[39m\u001B[38;5;124m'\u001B[39m)\u001B[38;5;241m.\u001B[39mfirst\u001B[38;5;241m.\u001B[39mevaluate(\u001B[38;5;124m'\u001B[39m\u001B[38;5;124melement => element.paused\u001B[39m\u001B[38;5;124m'\u001B[39m)\n",
      "File \u001B[0;32m~/PycharmProjects/ucsb-cs190n-f24-group-4/.venv/lib/python3.10/site-packages/playwright/sync_api/_generated.py:9006\u001B[0m, in \u001B[0;36mPage.goto\u001B[0;34m(self, url, timeout, wait_until, referer)\u001B[0m\n\u001B[1;32m   8945\u001B[0m \u001B[38;5;28;01mdef\u001B[39;00m \u001B[38;5;21mgoto\u001B[39m(\n\u001B[1;32m   8946\u001B[0m     \u001B[38;5;28mself\u001B[39m,\n\u001B[1;32m   8947\u001B[0m     url: \u001B[38;5;28mstr\u001B[39m,\n\u001B[0;32m   (...)\u001B[0m\n\u001B[1;32m   8953\u001B[0m     referer: typing\u001B[38;5;241m.\u001B[39mOptional[\u001B[38;5;28mstr\u001B[39m] \u001B[38;5;241m=\u001B[39m \u001B[38;5;28;01mNone\u001B[39;00m,\n\u001B[1;32m   8954\u001B[0m ) \u001B[38;5;241m-\u001B[39m\u001B[38;5;241m>\u001B[39m typing\u001B[38;5;241m.\u001B[39mOptional[\u001B[38;5;124m\"\u001B[39m\u001B[38;5;124mResponse\u001B[39m\u001B[38;5;124m\"\u001B[39m]:\n\u001B[1;32m   8955\u001B[0m \u001B[38;5;250m    \u001B[39m\u001B[38;5;124;03m\"\"\"Page.goto\u001B[39;00m\n\u001B[1;32m   8956\u001B[0m \n\u001B[1;32m   8957\u001B[0m \u001B[38;5;124;03m    Returns the main resource response. In case of multiple redirects, the navigation will resolve with the first\u001B[39;00m\n\u001B[0;32m   (...)\u001B[0m\n\u001B[1;32m   9002\u001B[0m \u001B[38;5;124;03m    Union[Response, None]\u001B[39;00m\n\u001B[1;32m   9003\u001B[0m \u001B[38;5;124;03m    \"\"\"\u001B[39;00m\n\u001B[1;32m   9005\u001B[0m     \u001B[38;5;28;01mreturn\u001B[39;00m mapping\u001B[38;5;241m.\u001B[39mfrom_impl_nullable(\n\u001B[0;32m-> 9006\u001B[0m         \u001B[38;5;28;43mself\u001B[39;49m\u001B[38;5;241;43m.\u001B[39;49m\u001B[43m_sync\u001B[49m\u001B[43m(\u001B[49m\n\u001B[1;32m   9007\u001B[0m \u001B[43m            \u001B[49m\u001B[38;5;28;43mself\u001B[39;49m\u001B[38;5;241;43m.\u001B[39;49m\u001B[43m_impl_obj\u001B[49m\u001B[38;5;241;43m.\u001B[39;49m\u001B[43mgoto\u001B[49m\u001B[43m(\u001B[49m\n\u001B[1;32m   9008\u001B[0m \u001B[43m                \u001B[49m\u001B[43murl\u001B[49m\u001B[38;5;241;43m=\u001B[39;49m\u001B[43murl\u001B[49m\u001B[43m,\u001B[49m\u001B[43m \u001B[49m\u001B[43mtimeout\u001B[49m\u001B[38;5;241;43m=\u001B[39;49m\u001B[43mtimeout\u001B[49m\u001B[43m,\u001B[49m\u001B[43m \u001B[49m\u001B[43mwaitUntil\u001B[49m\u001B[38;5;241;43m=\u001B[39;49m\u001B[43mwait_until\u001B[49m\u001B[43m,\u001B[49m\u001B[43m \u001B[49m\u001B[43mreferer\u001B[49m\u001B[38;5;241;43m=\u001B[39;49m\u001B[43mreferer\u001B[49m\n\u001B[1;32m   9009\u001B[0m \u001B[43m            \u001B[49m\u001B[43m)\u001B[49m\n\u001B[1;32m   9010\u001B[0m \u001B[43m        \u001B[49m\u001B[43m)\u001B[49m\n\u001B[1;32m   9011\u001B[0m     )\n",
      "    \u001B[0;31m[... skipping hidden 1 frame]\u001B[0m\n",
      "File \u001B[0;32m~/PycharmProjects/ucsb-cs190n-f24-group-4/.venv/lib/python3.10/site-packages/playwright/_impl/_page.py:551\u001B[0m, in \u001B[0;36mPage.goto\u001B[0;34m(self, url, timeout, waitUntil, referer)\u001B[0m\n\u001B[1;32m    544\u001B[0m \u001B[38;5;28;01masync\u001B[39;00m \u001B[38;5;28;01mdef\u001B[39;00m \u001B[38;5;21mgoto\u001B[39m(\n\u001B[1;32m    545\u001B[0m     \u001B[38;5;28mself\u001B[39m,\n\u001B[1;32m    546\u001B[0m     url: \u001B[38;5;28mstr\u001B[39m,\n\u001B[0;32m   (...)\u001B[0m\n\u001B[1;32m    549\u001B[0m     referer: \u001B[38;5;28mstr\u001B[39m \u001B[38;5;241m=\u001B[39m \u001B[38;5;28;01mNone\u001B[39;00m,\n\u001B[1;32m    550\u001B[0m ) \u001B[38;5;241m-\u001B[39m\u001B[38;5;241m>\u001B[39m Optional[Response]:\n\u001B[0;32m--> 551\u001B[0m     \u001B[38;5;28;01mreturn\u001B[39;00m \u001B[38;5;28;01mawait\u001B[39;00m \u001B[38;5;28mself\u001B[39m\u001B[38;5;241m.\u001B[39m_main_frame\u001B[38;5;241m.\u001B[39mgoto(\u001B[38;5;241m*\u001B[39m\u001B[38;5;241m*\u001B[39mlocals_to_params(\u001B[38;5;28mlocals\u001B[39m()))\n",
      "File \u001B[0;32m~/PycharmProjects/ucsb-cs190n-f24-group-4/.venv/lib/python3.10/site-packages/playwright/_impl/_frame.py:145\u001B[0m, in \u001B[0;36mFrame.goto\u001B[0;34m(self, url, timeout, waitUntil, referer)\u001B[0m\n\u001B[1;32m    135\u001B[0m \u001B[38;5;28;01masync\u001B[39;00m \u001B[38;5;28;01mdef\u001B[39;00m \u001B[38;5;21mgoto\u001B[39m(\n\u001B[1;32m    136\u001B[0m     \u001B[38;5;28mself\u001B[39m,\n\u001B[1;32m    137\u001B[0m     url: \u001B[38;5;28mstr\u001B[39m,\n\u001B[0;32m   (...)\u001B[0m\n\u001B[1;32m    140\u001B[0m     referer: \u001B[38;5;28mstr\u001B[39m \u001B[38;5;241m=\u001B[39m \u001B[38;5;28;01mNone\u001B[39;00m,\n\u001B[1;32m    141\u001B[0m ) \u001B[38;5;241m-\u001B[39m\u001B[38;5;241m>\u001B[39m Optional[Response]:\n\u001B[1;32m    142\u001B[0m     \u001B[38;5;28;01mreturn\u001B[39;00m cast(\n\u001B[1;32m    143\u001B[0m         Optional[Response],\n\u001B[1;32m    144\u001B[0m         from_nullable_channel(\n\u001B[0;32m--> 145\u001B[0m             \u001B[38;5;28;01mawait\u001B[39;00m \u001B[38;5;28mself\u001B[39m\u001B[38;5;241m.\u001B[39m_channel\u001B[38;5;241m.\u001B[39msend(\u001B[38;5;124m\"\u001B[39m\u001B[38;5;124mgoto\u001B[39m\u001B[38;5;124m\"\u001B[39m, locals_to_params(\u001B[38;5;28mlocals\u001B[39m()))\n\u001B[1;32m    146\u001B[0m         ),\n\u001B[1;32m    147\u001B[0m     )\n",
      "File \u001B[0;32m~/PycharmProjects/ucsb-cs190n-f24-group-4/.venv/lib/python3.10/site-packages/playwright/_impl/_connection.py:61\u001B[0m, in \u001B[0;36mChannel.send\u001B[0;34m(self, method, params)\u001B[0m\n\u001B[1;32m     60\u001B[0m \u001B[38;5;28;01masync\u001B[39;00m \u001B[38;5;28;01mdef\u001B[39;00m \u001B[38;5;21msend\u001B[39m(\u001B[38;5;28mself\u001B[39m, method: \u001B[38;5;28mstr\u001B[39m, params: Dict \u001B[38;5;241m=\u001B[39m \u001B[38;5;28;01mNone\u001B[39;00m) \u001B[38;5;241m-\u001B[39m\u001B[38;5;241m>\u001B[39m Any:\n\u001B[0;32m---> 61\u001B[0m     \u001B[38;5;28;01mreturn\u001B[39;00m \u001B[38;5;28;01mawait\u001B[39;00m \u001B[38;5;28mself\u001B[39m\u001B[38;5;241m.\u001B[39m_connection\u001B[38;5;241m.\u001B[39mwrap_api_call(\n\u001B[1;32m     62\u001B[0m         \u001B[38;5;28;01mlambda\u001B[39;00m: \u001B[38;5;28mself\u001B[39m\u001B[38;5;241m.\u001B[39m_inner_send(method, params, \u001B[38;5;28;01mFalse\u001B[39;00m),\n\u001B[1;32m     63\u001B[0m         \u001B[38;5;28mself\u001B[39m\u001B[38;5;241m.\u001B[39m_is_internal_type,\n\u001B[1;32m     64\u001B[0m     )\n",
      "File \u001B[0;32m~/PycharmProjects/ucsb-cs190n-f24-group-4/.venv/lib/python3.10/site-packages/playwright/_impl/_connection.py:528\u001B[0m, in \u001B[0;36mConnection.wrap_api_call\u001B[0;34m(self, cb, is_internal)\u001B[0m\n\u001B[1;32m    526\u001B[0m     \u001B[38;5;28;01mreturn\u001B[39;00m \u001B[38;5;28;01mawait\u001B[39;00m cb()\n\u001B[1;32m    527\u001B[0m \u001B[38;5;28;01mexcept\u001B[39;00m \u001B[38;5;167;01mException\u001B[39;00m \u001B[38;5;28;01mas\u001B[39;00m error:\n\u001B[0;32m--> 528\u001B[0m     \u001B[38;5;28;01mraise\u001B[39;00m rewrite_error(error, \u001B[38;5;124mf\u001B[39m\u001B[38;5;124m\"\u001B[39m\u001B[38;5;132;01m{\u001B[39;00mparsed_st[\u001B[38;5;124m'\u001B[39m\u001B[38;5;124mapiName\u001B[39m\u001B[38;5;124m'\u001B[39m]\u001B[38;5;132;01m}\u001B[39;00m\u001B[38;5;124m: \u001B[39m\u001B[38;5;132;01m{\u001B[39;00merror\u001B[38;5;132;01m}\u001B[39;00m\u001B[38;5;124m\"\u001B[39m) \u001B[38;5;28;01mfrom\u001B[39;00m \u001B[38;5;28;01mNone\u001B[39;00m\n\u001B[1;32m    529\u001B[0m \u001B[38;5;28;01mfinally\u001B[39;00m:\n\u001B[1;32m    530\u001B[0m     \u001B[38;5;28mself\u001B[39m\u001B[38;5;241m.\u001B[39m_api_zone\u001B[38;5;241m.\u001B[39mset(\u001B[38;5;28;01mNone\u001B[39;00m)\n",
      "\u001B[0;31mTimeoutError\u001B[0m: Page.goto: Timeout 30000ms exceeded.\nCall log:\n  - navigating to \"https://vimeo.com/375468729?autoplay=1\", waiting until \"load\"\n"
     ]
    }
   ],
   "execution_count": 11
  },
  {
   "cell_type": "code",
   "id": "158227dd2aa6a8c7",
   "metadata": {
    "ExecuteTime": {
     "end_time": "2024-12-12T07:07:19.413008Z",
     "start_time": "2024-12-11T23:58:41.337014Z"
    }
   },
   "source": [
    "directory = f\"/mnt/md0/cs190n/cs190n4/capture/{subdirectory}\"\n",
    "    \n",
    "for file in os.listdir(directory):\n",
    "    if file.endswith(\".pcap\"): \n",
    "        print(os.path.join(directory, file))\n",
    "        !docker run -v {directory}:/tmp/input -v ./data/unprocessed:/tmp/output mielverkerken/cicflowmeter /tmp/input/{file} /tmp/output > /dev/null 2>&1"
   ],
   "outputs": [
    {
     "name": "stdout",
     "output_type": "stream",
     "text": [
      "/mnt/md0/cs190n/cs190n4/capture/41c34d7b-fcf3-43f0-9dbe-c557ad30b496/twitch_speedtest_3.pcap\n",
      "/mnt/md0/cs190n/cs190n4/capture/41c34d7b-fcf3-43f0-9dbe-c557ad30b496/twitch_speedtest_6.pcap\n",
      "/mnt/md0/cs190n/cs190n4/capture/41c34d7b-fcf3-43f0-9dbe-c557ad30b496/twitch_speedtest_7.pcap\n",
      "/mnt/md0/cs190n/cs190n4/capture/41c34d7b-fcf3-43f0-9dbe-c557ad30b496/vimeo_speedtest_0.pcap\n",
      "/mnt/md0/cs190n/cs190n4/capture/41c34d7b-fcf3-43f0-9dbe-c557ad30b496/vimeo_speedtest_1.pcap\n",
      "/mnt/md0/cs190n/cs190n4/capture/41c34d7b-fcf3-43f0-9dbe-c557ad30b496/vimeo_speedtest_7.pcap\n"
     ]
    }
   ],
   "execution_count": 11
  },
  {
   "cell_type": "code",
   "id": "24c3ea9c914a2b8f",
   "metadata": {
    "ExecuteTime": {
     "end_time": "2024-12-12T07:07:19.413396Z",
     "start_time": "2024-12-11T23:58:42.818073Z"
    }
   },
   "source": [
    "ips = []\n",
    "\n",
    "# Youtube\n",
    "ips += \"\"\"\t\n",
    "2404:6800:4003:c04::5d\n",
    "2404:6800:4004:809::200e\n",
    "2404:6800:4006:809::200e\n",
    "2607:f8b0:4004:814::200e\n",
    "2607:f8b0:4005:809::200e\n",
    "2607:f8b0:400a:809::200e\n",
    "2800:3f0:4001:80a::200e\n",
    "2a00:1450:4009:81d::200e\n",
    "2a00:1450:400b:804::200e\n",
    "74.125.90.110\n",
    "142.250.179.238\n",
    "172.217.3.206\n",
    "172.217.6.46\n",
    "172.217.26.14\n",
    "172.217.30.78\n",
    "172.217.164.142\n",
    "172.217.194.91\n",
    "172.217.194.93\n",
    "172.217.194.136\n",
    "172.217.194.190\n",
    "216.58.203.110\n",
    "\"\"\".strip().split(\"\\n\")\n",
    "\n",
    "# Vimeo\n",
    "ips += \"\"\"\n",
    "151.101.0.217\n",
    "151.101.64.217\n",
    "151.101.128.217\n",
    "151.101.192.217\n",
    "\"\"\".strip().split(\"\\n\")\n",
    "\n",
    "# Twitch\n",
    "ips += \"\"\"\n",
    "151.101.2.167\n",
    "151.101.66.167\n",
    "151.101.130.167\n",
    "151.101.194.167\n",
    "\"\"\".strip().split(\"\\n\")\n",
    "\n",
    "# proxies\n",
    "ips += [proxy.ip for proxy in proxies]\n",
    "\n",
    "ips.append(re.search(r\"(?<=https:\\/\\/).*?(?=:)\", self_proxy).group())"
   ],
   "outputs": [],
   "execution_count": 12
  },
  {
   "cell_type": "code",
   "id": "2591f2686ea521cf",
   "metadata": {
    "ExecuteTime": {
     "end_time": "2024-12-12T07:07:19.413466Z",
     "start_time": "2024-12-11T23:58:42.827348Z"
    }
   },
   "source": [
    "twitch_captures = []\n",
    "twitch_capture_proxies = []\n",
    "twitch_capture_proxies1 = []\n",
    "twitch_capture_speedtests = []\n",
    "vimeo_captures = []\n",
    "vimeo_capture_proxies = []\n",
    "vimeo_capture_proxies1 = []\n",
    "vimeo_capture_speedtests = []\n",
    "youtube_captures = []\n",
    "youtube_capture_proxies = []\n",
    "youtube_capture_proxies1 = []\n",
    "youtube_capture_speedtests = []\n",
    "\n",
    "twitch_ips = []\n",
    "vimeo_ips = []\n",
    "youtube_ips = []\n",
    "\n",
    "for glob, captures, ips in [\n",
    "    (\"twitch_*.pcap_Flow.csv\", twitch_captures, twitch_ips),\n",
    "    (\"vimeo_*.pcap_Flow.csv\", vimeo_captures, vimeo_ips),\n",
    "    (\"youtube_*.pcap_Flow.csv\", youtube_captures, youtube_ips),\n",
    "]:\n",
    "    for path in Path(\"data/unprocessed\").glob(glob):\n",
    "        df = pd.read_csv(path, sep=\",\")\n",
    "        df = df[((df['Total Fwd Packet'] > 30) | (df['Total Bwd packets'] > 30)) & (df[\"Protocol\"] == 6)]\n",
    "        df = df.drop(['Src IP', 'Src Port', 'Dst IP', 'Dst Port', 'Protocol', 'Timestamp'], axis=1)\n",
    "        df[\"Label\"] = glob.split(\"_\", 1)[0]\n",
    "        ips.extend(df[\"Dst IP\"].unique())\n",
    "        captures.append(df)\n",
    "\n",
    "for glob, captures, ips in [\n",
    "    (\"twitch_proxy_*.pcap_Flow.csv\", twitch_capture_proxies, twitch_ips),\n",
    "    (\"twitch_proxy1_*.pcap_Flow.csv\", twitch_capture_proxies1, twitch_ips),\n",
    "    (\"vimeo_proxy_*.pcap_Flow.csv\", vimeo_capture_proxies, vimeo_ips),\n",
    "    (\"vimeo_proxy1_*.pcap_Flow.csv\", vimeo_capture_proxies1, vimeo_ips),\n",
    "    (\"youtube_proxy_*.pcap_Flow.csv\", youtube_capture_proxies, youtube_ips),\n",
    "    (\"youtube_proxy1_*.pcap_Flow.csv\", youtube_capture_proxies1, youtube_ips)\n",
    "]:\n",
    "    for path in Path(\"data/unprocessed\").glob(glob):\n",
    "        df = pd.read_csv(path, sep=\",\")\n",
    "        df = df[((df['Total Fwd Packet'] > 30) | (df['Total Bwd packets'] > 30)) & (df[\"Protocol\"] == 6)]\n",
    "        ips.extend(df[\"Dst IP\"].unique())\n",
    "        df = df.drop(['Src IP', 'Src Port', 'Dst IP', 'Dst Port', 'Protocol', 'Timestamp'], axis=1)\n",
    "        df[\"Label\"] = glob.split(\"_\", 1)[0]\n",
    "\n",
    "for glob, captures, ips in [\n",
    "    (\"twitch_speedtest_*.pcap_Flow.csv\", twitch_capture_speedtests, twitch_ips),\n",
    "    (\"vimeo_speedtest_*.pcap_Flow.csv\", vimeo_capture_speedtests, vimeo_ips),\n",
    "    (\"youtube_speedtest_*.pcap_Flow.csv\", youtube_capture_speedtests, youtube_ips),\n",
    "]:\n",
    "    for path in Path(\"data/unprocessed\").glob(glob):\n",
    "        df = pd.read_csv(path, sep=\",\")\n",
    "        df = df[(df[\"Dst IP\"].isin(ips)) & (df[\"Protocol\"] == 6)]\n",
    "        df = df.drop(['Src IP', 'Src Port', 'Dst IP', 'Dst Port', 'Protocol', 'Timestamp'], axis=1)\n",
    "        df[\"Label\"] = glob.split(\"_\", 1)[0]\n",
    "        captures.append(df)"
   ],
   "outputs": [
    {
     "ename": "KeyError",
     "evalue": "'Dst IP'",
     "output_type": "error",
     "traceback": [
      "\u001B[0;31m---------------------------------------------------------------------------\u001B[0m",
      "\u001B[0;31mKeyError\u001B[0m                                  Traceback (most recent call last)",
      "File \u001B[0;32m~/PycharmProjects/ucsb-cs190n-f24-group-4/.venv/lib/python3.10/site-packages/pandas/core/indexes/base.py:3629\u001B[0m, in \u001B[0;36mIndex.get_loc\u001B[0;34m(self, key, method, tolerance)\u001B[0m\n\u001B[1;32m   3628\u001B[0m \u001B[38;5;28;01mtry\u001B[39;00m:\n\u001B[0;32m-> 3629\u001B[0m     \u001B[38;5;28;01mreturn\u001B[39;00m \u001B[38;5;28;43mself\u001B[39;49m\u001B[38;5;241;43m.\u001B[39;49m\u001B[43m_engine\u001B[49m\u001B[38;5;241;43m.\u001B[39;49m\u001B[43mget_loc\u001B[49m\u001B[43m(\u001B[49m\u001B[43mcasted_key\u001B[49m\u001B[43m)\u001B[49m\n\u001B[1;32m   3630\u001B[0m \u001B[38;5;28;01mexcept\u001B[39;00m \u001B[38;5;167;01mKeyError\u001B[39;00m \u001B[38;5;28;01mas\u001B[39;00m err:\n",
      "File \u001B[0;32m~/PycharmProjects/ucsb-cs190n-f24-group-4/.venv/lib/python3.10/site-packages/pandas/_libs/index.pyx:136\u001B[0m, in \u001B[0;36mpandas._libs.index.IndexEngine.get_loc\u001B[0;34m()\u001B[0m\n",
      "File \u001B[0;32m~/PycharmProjects/ucsb-cs190n-f24-group-4/.venv/lib/python3.10/site-packages/pandas/_libs/index.pyx:163\u001B[0m, in \u001B[0;36mpandas._libs.index.IndexEngine.get_loc\u001B[0;34m()\u001B[0m\n",
      "File \u001B[0;32mpandas/_libs/hashtable_class_helper.pxi:5198\u001B[0m, in \u001B[0;36mpandas._libs.hashtable.PyObjectHashTable.get_item\u001B[0;34m()\u001B[0m\n",
      "File \u001B[0;32mpandas/_libs/hashtable_class_helper.pxi:5206\u001B[0m, in \u001B[0;36mpandas._libs.hashtable.PyObjectHashTable.get_item\u001B[0;34m()\u001B[0m\n",
      "\u001B[0;31mKeyError\u001B[0m: 'Dst IP'",
      "\nThe above exception was the direct cause of the following exception:\n",
      "\u001B[0;31mKeyError\u001B[0m                                  Traceback (most recent call last)",
      "Cell \u001B[0;32mIn[13], line 28\u001B[0m\n\u001B[1;32m     26\u001B[0m         df \u001B[38;5;241m=\u001B[39m df\u001B[38;5;241m.\u001B[39mdrop([\u001B[38;5;124m'\u001B[39m\u001B[38;5;124mSrc IP\u001B[39m\u001B[38;5;124m'\u001B[39m, \u001B[38;5;124m'\u001B[39m\u001B[38;5;124mSrc Port\u001B[39m\u001B[38;5;124m'\u001B[39m, \u001B[38;5;124m'\u001B[39m\u001B[38;5;124mDst IP\u001B[39m\u001B[38;5;124m'\u001B[39m, \u001B[38;5;124m'\u001B[39m\u001B[38;5;124mDst Port\u001B[39m\u001B[38;5;124m'\u001B[39m, \u001B[38;5;124m'\u001B[39m\u001B[38;5;124mProtocol\u001B[39m\u001B[38;5;124m'\u001B[39m, \u001B[38;5;124m'\u001B[39m\u001B[38;5;124mTimestamp\u001B[39m\u001B[38;5;124m'\u001B[39m], axis\u001B[38;5;241m=\u001B[39m\u001B[38;5;241m1\u001B[39m)\n\u001B[1;32m     27\u001B[0m         df[\u001B[38;5;124m\"\u001B[39m\u001B[38;5;124mLabel\u001B[39m\u001B[38;5;124m\"\u001B[39m] \u001B[38;5;241m=\u001B[39m glob\u001B[38;5;241m.\u001B[39msplit(\u001B[38;5;124m\"\u001B[39m\u001B[38;5;124m_\u001B[39m\u001B[38;5;124m\"\u001B[39m, \u001B[38;5;241m1\u001B[39m)[\u001B[38;5;241m0\u001B[39m]\n\u001B[0;32m---> 28\u001B[0m         ips\u001B[38;5;241m.\u001B[39mextend(\u001B[43mdf\u001B[49m\u001B[43m[\u001B[49m\u001B[38;5;124;43m\"\u001B[39;49m\u001B[38;5;124;43mDst IP\u001B[39;49m\u001B[38;5;124;43m\"\u001B[39;49m\u001B[43m]\u001B[49m\u001B[38;5;241m.\u001B[39munique())\n\u001B[1;32m     29\u001B[0m         captures\u001B[38;5;241m.\u001B[39mappend(df)\n\u001B[1;32m     31\u001B[0m \u001B[38;5;28;01mfor\u001B[39;00m glob, captures, ips \u001B[38;5;129;01min\u001B[39;00m [\n\u001B[1;32m     32\u001B[0m     (\u001B[38;5;124m\"\u001B[39m\u001B[38;5;124mtwitch_proxy_*.pcap_Flow.csv\u001B[39m\u001B[38;5;124m\"\u001B[39m, twitch_capture_proxies, twitch_ips),\n\u001B[1;32m     33\u001B[0m     (\u001B[38;5;124m\"\u001B[39m\u001B[38;5;124mtwitch_proxy1_*.pcap_Flow.csv\u001B[39m\u001B[38;5;124m\"\u001B[39m, twitch_capture_proxies1, twitch_ips),\n\u001B[0;32m   (...)\u001B[0m\n\u001B[1;32m     37\u001B[0m     (\u001B[38;5;124m\"\u001B[39m\u001B[38;5;124myoutube_proxy1_*.pcap_Flow.csv\u001B[39m\u001B[38;5;124m\"\u001B[39m, youtube_capture_proxies1, youtube_ips)\n\u001B[1;32m     38\u001B[0m ]:\n",
      "File \u001B[0;32m~/PycharmProjects/ucsb-cs190n-f24-group-4/.venv/lib/python3.10/site-packages/pandas/core/frame.py:3505\u001B[0m, in \u001B[0;36mDataFrame.__getitem__\u001B[0;34m(self, key)\u001B[0m\n\u001B[1;32m   3503\u001B[0m \u001B[38;5;28;01mif\u001B[39;00m \u001B[38;5;28mself\u001B[39m\u001B[38;5;241m.\u001B[39mcolumns\u001B[38;5;241m.\u001B[39mnlevels \u001B[38;5;241m>\u001B[39m \u001B[38;5;241m1\u001B[39m:\n\u001B[1;32m   3504\u001B[0m     \u001B[38;5;28;01mreturn\u001B[39;00m \u001B[38;5;28mself\u001B[39m\u001B[38;5;241m.\u001B[39m_getitem_multilevel(key)\n\u001B[0;32m-> 3505\u001B[0m indexer \u001B[38;5;241m=\u001B[39m \u001B[38;5;28;43mself\u001B[39;49m\u001B[38;5;241;43m.\u001B[39;49m\u001B[43mcolumns\u001B[49m\u001B[38;5;241;43m.\u001B[39;49m\u001B[43mget_loc\u001B[49m\u001B[43m(\u001B[49m\u001B[43mkey\u001B[49m\u001B[43m)\u001B[49m\n\u001B[1;32m   3506\u001B[0m \u001B[38;5;28;01mif\u001B[39;00m is_integer(indexer):\n\u001B[1;32m   3507\u001B[0m     indexer \u001B[38;5;241m=\u001B[39m [indexer]\n",
      "File \u001B[0;32m~/PycharmProjects/ucsb-cs190n-f24-group-4/.venv/lib/python3.10/site-packages/pandas/core/indexes/base.py:3631\u001B[0m, in \u001B[0;36mIndex.get_loc\u001B[0;34m(self, key, method, tolerance)\u001B[0m\n\u001B[1;32m   3629\u001B[0m     \u001B[38;5;28;01mreturn\u001B[39;00m \u001B[38;5;28mself\u001B[39m\u001B[38;5;241m.\u001B[39m_engine\u001B[38;5;241m.\u001B[39mget_loc(casted_key)\n\u001B[1;32m   3630\u001B[0m \u001B[38;5;28;01mexcept\u001B[39;00m \u001B[38;5;167;01mKeyError\u001B[39;00m \u001B[38;5;28;01mas\u001B[39;00m err:\n\u001B[0;32m-> 3631\u001B[0m     \u001B[38;5;28;01mraise\u001B[39;00m \u001B[38;5;167;01mKeyError\u001B[39;00m(key) \u001B[38;5;28;01mfrom\u001B[39;00m \u001B[38;5;21;01merr\u001B[39;00m\n\u001B[1;32m   3632\u001B[0m \u001B[38;5;28;01mexcept\u001B[39;00m \u001B[38;5;167;01mTypeError\u001B[39;00m:\n\u001B[1;32m   3633\u001B[0m     \u001B[38;5;66;03m# If we have a listlike key, _check_indexing_error will raise\u001B[39;00m\n\u001B[1;32m   3634\u001B[0m     \u001B[38;5;66;03m#  InvalidIndexError. Otherwise we fall through and re-raise\u001B[39;00m\n\u001B[1;32m   3635\u001B[0m     \u001B[38;5;66;03m#  the TypeError.\u001B[39;00m\n\u001B[1;32m   3636\u001B[0m     \u001B[38;5;28mself\u001B[39m\u001B[38;5;241m.\u001B[39m_check_indexing_error(key)\n",
      "\u001B[0;31mKeyError\u001B[0m: 'Dst IP'"
     ]
    }
   ],
   "execution_count": 13
  },
  {
   "cell_type": "code",
   "execution_count": 16,
   "id": "6aa00bf1f424bc5",
   "metadata": {
    "ExecuteTime": {
     "end_time": "2024-12-12T07:07:19.413544Z",
     "start_time": "2024-12-11T00:39:50.958547Z"
    }
   },
   "outputs": [],
   "source": [
    "pd.concat(twitch_captures).to_csv(\"data/twitch_captures.csv\")\n",
    "pd.concat(twitch_capture_proxies).to_csv(\"data/twitch_capture_proxies.csv\")\n",
    "pd.concat(twitch_capture_proxies1).to_csv(\"data/twitch_capture_proxies1.csv\")\n",
    "pd.concat(twitch_capture_speedtests).to_csv(\"data/twitch_capture_speedtests.csv\")\n",
    "pd.concat(vimeo_captures).to_csv(\"data/vimeo_captures.csv\")\n",
    "pd.concat(vimeo_capture_proxies).to_csv(\"data/vimeo_capture_proxies.csv\")\n",
    "pd.concat(vimeo_capture_proxies1).to_csv(\"data/vimeo_capture_proxies1.csv\")\n",
    "pd.concat(vimeo_capture_speedtests).to_csv(\"data/vimeo_capture_speedtests.csv\")\n",
    "pd.concat(youtube_captures).to_csv(\"data/youtube_captures.csv\")\n",
    "pd.concat(youtube_capture_proxies).to_csv(\"data/youtube_capture_proxies.csv\")\n",
    "pd.concat(youtube_capture_proxies1).to_csv(\"data/youtube_capture_proxies1.csv\")\n",
    "pd.concat(youtube_capture_speedtests).to_csv(\"data/youtube_capture_speedtests.csv\")"
   ]
  },
  {
   "cell_type": "code",
   "execution_count": 20,
   "id": "711ce9f0f700fb1c",
   "metadata": {
    "ExecuteTime": {
     "end_time": "2024-12-12T07:07:19.413612Z",
     "start_time": "2024-12-11T04:08:54.058927Z"
    }
   },
   "outputs": [
    {
     "data": {
      "text/plain": [
       "<youtube_capture_0.pcap: TCP:3334 UDP:80068 ICMP:0 Other:29>"
      ]
     },
     "execution_count": 20,
     "metadata": {},
     "output_type": "execute_result"
    }
   ],
   "source": [
    "# from scapy.all import *\n",
    "# \n",
    "# # rdpcap(\"/mnt/md0/cs190n/cs190n4/capture/f96448c3-e829-4752-bd3e-752097078e98/tmp/youtube_capture_0.pcap\")\n",
    "# # rdpcap(\"/mnt/md0/cs190n/cs190n4/capture/edae735b-ace9-45ef-b0ff-0b4ebade43b2/tmp/twitch_capture.pcap\")\n",
    "# foo = rdpcap(\"/mnt/md0/cs190n/cs190n4/capture/ac772645-dffb-4a44-957e-0b67ee4be6ab/tmp/youtube_capture_0.pcap\")\n",
    "# foo"
   ]
  },
  {
   "cell_type": "code",
   "execution_count": 21,
   "id": "a15052b8b5f66c09",
   "metadata": {
    "ExecuteTime": {
     "end_time": "2024-12-12T07:07:19.413925Z",
     "start_time": "2024-12-11T04:12:22.129042Z"
    }
   },
   "outputs": [
    {
     "data": {
      "text/plain": [
       "<CookedLinuxV2  proto=IPv4 reserved=0 ifindex=4 lladdrtype=0x1 pkttype=sent-by-us lladdrlen=6 src=b'\\x02\\xb1\\xdc\\x80T\\x8b' |<IP  version=4 ihl=5 tos=0x0 len=58 id=63199 flags=DF frag=0 ttl=127 proto=udp chksum=0xea18 src=10.113.5.215 dst=10.113.0.2 |<UDP  sport=57380 dport=domain len=38 chksum=0x1af2 |<DNS  id=7563 qr=0 opcode=QUERY aa=0 tc=0 rd=1 ra=0 z=0 ad=0 cd=0 rcode=ok qdcount=1 ancount=0 nscount=0 arcount=0 qd=[<DNSQR  qname=b'plausible.io.' qtype=A unicastresponse=0 qclass=IN |>] |>>>>"
      ]
     },
     "execution_count": 21,
     "metadata": {},
     "output_type": "execute_result"
    }
   ],
   "source": [
    "# foo[0]"
   ]
  },
  {
   "cell_type": "code",
   "execution_count": null,
   "id": "6f6c67392035d22",
   "metadata": {
    "ExecuteTime": {
     "end_time": "2024-12-12T07:07:19.414069Z",
     "start_time": "2024-12-11T04:52:45.205199Z"
    }
   },
   "outputs": [],
   "source": [
    "# result"
   ]
  }
 ],
 "metadata": {
  "kernelspec": {
   "display_name": "Python 3 (ipykernel)",
   "language": "python",
   "name": "python3"
  },
  "language_info": {
   "codemirror_mode": {
    "name": "ipython",
    "version": 3
   },
   "file_extension": ".py",
   "mimetype": "text/x-python",
   "name": "python",
   "nbconvert_exporter": "python",
   "pygments_lexer": "ipython3",
   "version": "3.10.11"
  }
 },
 "nbformat": 4,
 "nbformat_minor": 5
}
