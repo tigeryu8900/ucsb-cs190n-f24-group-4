{
 "cells": [
  {
   "cell_type": "code",
   "id": "initial_id",
   "metadata": {
    "collapsed": true,
    "ExecuteTime": {
     "end_time": "2024-12-12T09:36:25.647920Z",
     "start_time": "2024-12-12T09:36:25.330313Z"
    }
   },
   "source": [
    "import os\n",
    "import time\n",
    "\n",
    "from netunicorn.client.remote import RemoteClient, RemoteClientException\n",
    "from netunicorn.base import Experiment, ExperimentStatus, Pipeline\n",
    "\n",
    "# Tasks to start tcpdump and stop named tcpdump task\n",
    "from netunicorn.library.tasks.capture.tcpdump import StartCapture, StopNamedCapture\n",
    "\n",
    "# Upload to file.io - public anonymous temporary file storage\n",
    "from netunicorn.library.tasks.upload.webdav import UploadToWebDav\n",
    "\n",
    "# Tasks for watching the corresponding video platform\n",
    "# from netunicorn.library.tasks.video_watchers.youtube_watcher import WatchYouTubeVideo\n",
    "# from netunicorn.library.tasks.video_watchers.vimeo_watcher import WatchVimeoVideo\n",
    "from netunicorn.library.tasks.video_watchers.twitch_watcher import WatchTwitchStream\n",
    "\n",
    "# from background_traffic import StartBackgroundTraffic, StopNamedBackgroundTraffic"
   ],
   "outputs": [],
   "execution_count": 1
  },
  {
   "metadata": {
    "ExecuteTime": {
     "end_time": "2024-12-12T09:36:25.660189Z",
     "start_time": "2024-12-12T09:36:25.652439Z"
    }
   },
   "cell_type": "code",
   "source": [
    "import signal\n",
    "import subprocess\n",
    "import time\n",
    "\n",
    "from netunicorn.base import (\n",
    "    Architecture,\n",
    "    Failure,\n",
    "    Node,\n",
    "    Result,\n",
    "    Success,\n",
    "    Task,\n",
    "    TaskDispatcher,\n",
    ")\n",
    "from netunicorn.library.tasks.tasks_utils import subprocess_run\n",
    "\n",
    "\n",
    "class StartBackgroundTraffic(TaskDispatcher):\n",
    "    def __init__(\n",
    "            self, *args, **kwargs\n",
    "    ):\n",
    "        super().__init__(*args, **kwargs)\n",
    "\n",
    "        self.linux_implementation = StartBackgroundTrafficLinuxImplementation(\n",
    "            *args, **kwargs\n",
    "        )\n",
    "\n",
    "    def dispatch(self, node: Node) -> Task:\n",
    "        if node.architecture in {Architecture.LINUX_AMD64, Architecture.LINUX_ARM64}:\n",
    "            return self.linux_implementation\n",
    "\n",
    "        raise NotImplementedError(\n",
    "            f\"StartBackgroundTraffic is not implemented for {node.architecture}\"\n",
    "        )\n",
    "\n",
    "\n",
    "class StartBackgroundTrafficLinuxImplementation(Task):\n",
    "    requirements = [\"pip install speedtest-cli\"]\n",
    "\n",
    "    def __init__(\n",
    "            self, *args, **kwargs\n",
    "    ):\n",
    "        super().__init__(*args, **kwargs)\n",
    "\n",
    "    def run(self) -> Result:\n",
    "        signal.signal(signal.SIGCHLD, signal.SIG_IGN)\n",
    "\n",
    "        proc = subprocess.Popen(\n",
    "            [\"sh\", \"-c\", \"while true; do speedtest-cli --simple --secure; echo asdf; done\"],\n",
    "            stdout=subprocess.PIPE,\n",
    "            stderr=subprocess.PIPE,\n",
    "        )\n",
    "        time.sleep(2)\n",
    "        if (exit_code := proc.poll()) is None:  # not finished yet\n",
    "            return Success(proc.pid)\n",
    "\n",
    "        text = \"\"\n",
    "        if proc.stdout:\n",
    "            text += proc.stdout.read().decode(\"utf-8\") + \"\\n\"\n",
    "        if proc.stderr:\n",
    "            text += proc.stderr.read().decode(\"utf-8\")\n",
    "        return Failure(f\"sh terminated with return code {exit_code}\" + text)\n",
    "\n",
    "\n",
    "class StopNamedBackgroundTraffic(TaskDispatcher):\n",
    "    def __init__(self, start_background_traffic_task_name: str, *args, **kwargs):\n",
    "        super().__init__(*args, **kwargs)\n",
    "        self.start_background_traffic_task_name = start_background_traffic_task_name\n",
    "        self.linux_implementation = StopNamedBackgroundTrafficImplementation(\n",
    "            background_traffic_task_name=self.start_background_traffic_task_name,\n",
    "            *args,\n",
    "            **kwargs,\n",
    "        )\n",
    "\n",
    "    def dispatch(self, node: Node) -> Task:\n",
    "        if node.architecture in {Architecture.LINUX_AMD64, Architecture.LINUX_ARM64}:\n",
    "            return self.linux_implementation\n",
    "\n",
    "        raise NotImplementedError(\n",
    "            f\"StopNamedBackgroundTraffic is not implemented for {node.architecture}\"\n",
    "        )\n",
    "\n",
    "\n",
    "class StopNamedBackgroundTrafficImplementation(Task):\n",
    "    requirements = [\n",
    "        \"sudo apt-get update\",\n",
    "        \"sudo apt-get install -y procps\",\n",
    "    ]\n",
    "\n",
    "    def __init__(self, background_traffic_task_name: str, *args, **kwargs):\n",
    "        super().__init__(*args, **kwargs)\n",
    "        self.background_traffic_task_name = background_traffic_task_name\n",
    "\n",
    "    def run(self):\n",
    "        signal.signal(signal.SIGCHLD, signal.SIG_IGN)\n",
    "        pid = self.previous_steps.get(\n",
    "            self.background_traffic_task_name, [Failure(\"Named StartBackgroundTraffic not found\")]\n",
    "        )[-1]\n",
    "        if isinstance(pid, Failure):\n",
    "            return pid\n",
    "\n",
    "        pid = pid.unwrap()\n",
    "        return subprocess_run([\"kill\", str(pid)])"
   ],
   "id": "bb760018668f27e6",
   "outputs": [],
   "execution_count": 2
  },
  {
   "metadata": {
    "ExecuteTime": {
     "end_time": "2024-12-12T09:36:25.782731Z",
     "start_time": "2024-12-12T09:36:25.770168Z"
    }
   },
   "cell_type": "code",
   "source": [
    "# pipeline = (\n",
    "#     Pipeline()\n",
    "#     .then(StartCapture(filepath=\"youtube_capture.pcap\", name=\"youtube_capture\"))\n",
    "#     .then(WatchTwitchStream(\"https://www.youtube.com/watch?v=dQw4w9WgXcQ\", 10))\n",
    "#     .then(WatchTwitchStream(\"https://www.youtube.com/watch?v=r5JYHXtt_rw\", 10))\n",
    "#     .then(WatchTwitchStream(\"https://www.youtube.com/watch?v=pxEV1A5mTYM\", 10))\n",
    "#     .then(WatchTwitchStream(\"https://www.youtube.com/watch?v=Ct6BUPvE2sM\", 10))\n",
    "#     .then(WatchTwitchStream(\"https://www.youtube.com/watch?v=KjtYZpqvt50\", 10))\n",
    "#     .then(StopNamedCapture(start_capture_task_name=\"youtube_capture\"))\n",
    "#     .then(UploadToWebDav(\n",
    "#         filepaths={\"youtube_capture.pcap\"},\n",
    "#         endpoint=\"http://snl-server-5.cs.ucsb.edu/cs190n/cs190n4/A/youtube_capture\",\n",
    "#         username=\"uploader\",\n",
    "#         password=\"uploader\"\n",
    "#     ))\n",
    "#     .then(StartCapture(filepath=\"vimeo_capture.pcap\", name=\"vimeo_capture\"))\n",
    "#     .then(WatchTwitchStream(\"https://vimeo.com/375468729?autoplay=1\", 10))\n",
    "#     .then(WatchTwitchStream(\"https://vimeo.com/347119375?autoplay=1\", 10))\n",
    "#     .then(WatchTwitchStream(\"https://vimeo.com/297124334?autoplay=1\", 10))\n",
    "#     .then(WatchTwitchStream(\"https://vimeo.com/476306167?autoplay=1\", 10))\n",
    "#     .then(WatchTwitchStream(\"https://vimeo.com/515893651?autoplay=1\", 10))\n",
    "#     .then(StopNamedCapture(start_capture_task_name=\"vimeo_capture\"))\n",
    "#     .then(UploadToWebDav(\n",
    "#         filepaths={\"vimeo_capture.pcap\"},\n",
    "#         endpoint=\"http://snl-server-5.cs.ucsb.edu/cs190n/cs190n4/A/vimeo_capture\",\n",
    "#         username=\"uploader\",\n",
    "#         password=\"uploader\"\n",
    "#     ))\n",
    "#     .then(StartCapture(filepath=\"twitch_capture.pcap\", name=\"twitch_capture\"))\n",
    "#     .then(WatchTwitchStream(\"https://twitch.tv/video/2322690366\", 10))\n",
    "#     .then(WatchTwitchStream(\"https://twitch.tv/video/2322690366\", 10))\n",
    "#     .then(WatchTwitchStream(\"https://twitch.tv/video/2322690366\", 10))\n",
    "#     .then(WatchTwitchStream(\"https://twitch.tv/video/2322690366\", 10))\n",
    "#     .then(WatchTwitchStream(\"https://twitch.tv/video/2322690366\", 10))\n",
    "#     .then(StopNamedCapture(start_capture_task_name=\"twitch_capture\"))\n",
    "#     .then(UploadToWebDav(\n",
    "#         filepaths={\"twitch_capture.pcap\"},\n",
    "#         endpoint=\"http://snl-server-5.cs.ucsb.edu/cs190n/cs190n4/A/twitch_capture\",\n",
    "#         username=\"uploader\",\n",
    "#         password=\"uploader\"\n",
    "#     ))\n",
    "# \n",
    "#     .then(StartBackgroundTraffic(name=\"background_traffic\"))\n",
    "#     .then(StartCapture(filepath=\"youtube_capture_speedtest.pcap\", name=\"youtube_capture_speedtest\"))\n",
    "#     .then(WatchTwitchStream(\"https://www.youtube.com/watch?v=dQw4w9WgXcQ\", 10))\n",
    "#     .then(WatchTwitchStream(\"https://www.youtube.com/watch?v=r5JYHXtt_rw\", 10))\n",
    "#     .then(WatchTwitchStream(\"https://www.youtube.com/watch?v=pxEV1A5mTYM\", 10))\n",
    "#     .then(WatchTwitchStream(\"https://www.youtube.com/watch?v=Ct6BUPvE2sM\", 10))\n",
    "#     .then(WatchTwitchStream(\"https://www.youtube.com/watch?v=KjtYZpqvt50\", 10))\n",
    "#     .then(StopNamedCapture(start_capture_task_name=\"youtube_capture_speedtest\"))\n",
    "#     .then(UploadToWebDav(\n",
    "#         filepaths={\"youtube_capture_speedtest.pcap\"},\n",
    "#         endpoint=\"http://snl-server-5.cs.ucsb.edu/cs190n/cs190n4/A/youtube_capture_speedtest\",\n",
    "#         username=\"uploader\",\n",
    "#         password=\"uploader\"\n",
    "#     ))\n",
    "#     .then(StartCapture(filepath=\"vimeo_capture_speedtest.pcap\", name=\"vimeo_capture_speedtest\"))\n",
    "#     .then(WatchTwitchStream(\"https://vimeo.com/375468729?autoplay=1\", 10))\n",
    "#     .then(WatchTwitchStream(\"https://vimeo.com/347119375?autoplay=1\", 10))\n",
    "#     .then(WatchTwitchStream(\"https://vimeo.com/297124334?autoplay=1\", 10))\n",
    "#     .then(WatchTwitchStream(\"https://vimeo.com/476306167?autoplay=1\", 10))\n",
    "#     .then(WatchTwitchStream(\"https://vimeo.com/515893651?autoplay=1\", 10))\n",
    "#     .then(StopNamedCapture(start_capture_task_name=\"vimeo_capture_speedtest\"))\n",
    "#     .then(UploadToWebDav(\n",
    "#         filepaths={\"vimeo_capture_speedtest.pcap\"},\n",
    "#         endpoint=\"http://snl-server-5.cs.ucsb.edu/cs190n/cs190n4/A/vimeo_capture_speedtest\",\n",
    "#         username=\"uploader\",\n",
    "#         password=\"uploader\"\n",
    "#     ))\n",
    "#     .then(StartCapture(filepath=\"twitch_capture_speedtest.pcap\", name=\"twitch_capture_speedtest\"))\n",
    "#     .then(WatchTwitchStream(\"https://twitch.tv/video/2322690366\", 10))\n",
    "#     .then(WatchTwitchStream(\"https://twitch.tv/video/2298318732\", 10))\n",
    "#     .then(WatchTwitchStream(\"https://twitch.tv/video/2316652767\", 10))\n",
    "#     .then(WatchTwitchStream(\"https://twitch.tv/video/1867242354\", 10))\n",
    "#     .then(WatchTwitchStream(\"https://twitch.tv/video/2320975412\", 10))\n",
    "#     .then(StopNamedCapture(start_capture_task_name=\"twitch_capture_speedtest\"))\n",
    "#     .then(UploadToWebDav(\n",
    "#         filepaths={\"twitch_capture_speedtest.pcap\"},\n",
    "#         endpoint=\"http://snl-server-5.cs.ucsb.edu/cs190n/cs190n4/A/twitch_capture_speedtest\",\n",
    "#         username=\"uploader\",\n",
    "#         password=\"uploader\"\n",
    "#     ))\n",
    "#     .then(StopNamedBackgroundTraffic(start_background_traffic_task_name=\"background_traffic\"))\n",
    "# )\n",
    "pipeline = (\n",
    "    Pipeline()\n",
    "    .then(StartCapture(filepath=\"youtube_capture_proxy.pcap\", name=\"youtube_capture_proxy\"))\n",
    "    .then(WatchTwitchStream(\"https://www.youtube.com/watch?v=dQw4w9WgXcQ\", 10, webdriver_arguments=[\"--proxy-server=http://4.tcp.us-cal-1.ngrok.io:16686,direct://\"]))\n",
    "    .then(WatchTwitchStream(\"https://www.youtube.com/watch?v=r5JYHXtt_rw\", 10, webdriver_arguments=[\"--proxy-server=http://4.tcp.us-cal-1.ngrok.io:16686,direct://\"]))\n",
    "    .then(WatchTwitchStream(\"https://www.youtube.com/watch?v=pxEV1A5mTYM\", 10, webdriver_arguments=[\"--proxy-server=http://4.tcp.us-cal-1.ngrok.io:16686,direct://\"]))\n",
    "    .then(WatchTwitchStream(\"https://www.youtube.com/watch?v=Ct6BUPvE2sM\", 10, webdriver_arguments=[\"--proxy-server=http://4.tcp.us-cal-1.ngrok.io:16686,direct://\"]))\n",
    "    .then(WatchTwitchStream(\"https://www.youtube.com/watch?v=KjtYZpqvt50\", 10, webdriver_arguments=[\"--proxy-server=http://4.tcp.us-cal-1.ngrok.io:16686,direct://\"]))\n",
    "    .then(StopNamedCapture(start_capture_task_name=\"youtube_capture_proxy\"))\n",
    "    .then(UploadToWebDav(\n",
    "        filepaths={\"youtube_capture_proxy.pcap\"},\n",
    "        endpoint=\"http://snl-server-5.cs.ucsb.edu/cs190n/cs190n4/A/youtube_capture_proxy\",\n",
    "        username=\"uploader\",\n",
    "        password=\"uploader\"\n",
    "    ))\n",
    "    .then(StartCapture(filepath=\"vimeo_capture_proxy.pcap\", name=\"vimeo_capture_proxy\"))\n",
    "    .then(WatchTwitchStream(\"https://vimeo.com/375468729?autoplay=1\", 10, webdriver_arguments=[\"--proxy-server=http://4.tcp.us-cal-1.ngrok.io:16686,direct://\"]))\n",
    "    .then(WatchTwitchStream(\"https://vimeo.com/347119375?autoplay=1\", 10, webdriver_arguments=[\"--proxy-server=http://4.tcp.us-cal-1.ngrok.io:16686,direct://\"]))\n",
    "    .then(WatchTwitchStream(\"https://vimeo.com/297124334?autoplay=1\", 10, webdriver_arguments=[\"--proxy-server=http://4.tcp.us-cal-1.ngrok.io:16686,direct://\"]))\n",
    "    .then(WatchTwitchStream(\"https://vimeo.com/476306167?autoplay=1\", 10, webdriver_arguments=[\"--proxy-server=http://4.tcp.us-cal-1.ngrok.io:16686,direct://\"]))\n",
    "    .then(WatchTwitchStream(\"https://vimeo.com/515893651?autoplay=1\", 10, webdriver_arguments=[\"--proxy-server=http://4.tcp.us-cal-1.ngrok.io:16686,direct://\"]))\n",
    "    .then(StopNamedCapture(start_capture_task_name=\"vimeo_capture_proxy\"))\n",
    "    .then(UploadToWebDav(\n",
    "        filepaths={\"vimeo_capture_proxy.pcap\"},\n",
    "        endpoint=\"http://snl-server-5.cs.ucsb.edu/cs190n/cs190n4/A/vimeo_capture_proxy\",\n",
    "        username=\"uploader\",\n",
    "        password=\"uploader\"\n",
    "    ))\n",
    "    .then(StartCapture(filepath=\"twitch_capture_proxy.pcap\", name=\"twitch_capture_proxy\"))\n",
    "    .then(WatchTwitchStream(\"https://twitch.tv/video/2322690366\", 10, webdriver_arguments=[\"--proxy-server=http://4.tcp.us-cal-1.ngrok.io:16686,direct://\"]))\n",
    "    .then(WatchTwitchStream(\"https://twitch.tv/video/2322690366\", 10, webdriver_arguments=[\"--proxy-server=http://4.tcp.us-cal-1.ngrok.io:16686,direct://\"]))\n",
    "    .then(WatchTwitchStream(\"https://twitch.tv/video/2322690366\", 10, webdriver_arguments=[\"--proxy-server=http://4.tcp.us-cal-1.ngrok.io:16686,direct://\"]))\n",
    "    .then(WatchTwitchStream(\"https://twitch.tv/video/2322690366\", 10, webdriver_arguments=[\"--proxy-server=http://4.tcp.us-cal-1.ngrok.io:16686,direct://\"]))\n",
    "    .then(WatchTwitchStream(\"https://twitch.tv/video/2322690366\", 10, webdriver_arguments=[\"--proxy-server=http://4.tcp.us-cal-1.ngrok.io:16686,direct://\"]))\n",
    "    .then(StopNamedCapture(start_capture_task_name=\"twitch_capture_proxy\"))\n",
    "    .then(UploadToWebDav(\n",
    "        filepaths={\"twitch_capture_proxy.pcap\"},\n",
    "        endpoint=\"http://snl-server-5.cs.ucsb.edu/cs190n/cs190n4/A/twitch_capture_proxy\",\n",
    "        username=\"uploader\",\n",
    "        password=\"uploader\"\n",
    "    ))\n",
    ")"
   ],
   "id": "d130bce1d6cd12e4",
   "outputs": [],
   "execution_count": 3
  },
  {
   "metadata": {
    "ExecuteTime": {
     "end_time": "2024-12-12T09:36:25.822916Z",
     "start_time": "2024-12-12T09:36:25.819340Z"
    }
   },
   "cell_type": "code",
   "source": [
    "netunicorn_login = 'cs190n4'\n",
    "netunicorn_password = 'zvL89JkW'\n",
    "\n",
    "NETUNICORN_ENDPOINT = os.environ.get('NETUNICORN_ENDPOINT', 'https://pinot.cs.ucsb.edu/netunicorn')\n",
    "NETUNICORN_LOGIN = os.environ.get('NETUNICORN_LOGIN', netunicorn_login)\n",
    "NETUNICORN_PASSWORD = os.environ.get('NETUNICORN_PASSWORD', netunicorn_password)\n",
    "\n",
    "client = RemoteClient(endpoint=NETUNICORN_ENDPOINT, login=NETUNICORN_LOGIN, password=NETUNICORN_PASSWORD)"
   ],
   "id": "7064ed08c9f75ee5",
   "outputs": [],
   "execution_count": 4
  },
  {
   "metadata": {
    "ExecuteTime": {
     "end_time": "2024-12-12T09:36:57.633684Z",
     "start_time": "2024-12-12T09:36:25.864856Z"
    }
   },
   "cell_type": "code",
   "source": [
    "nodes = client.get_nodes()\n",
    "working_nodes = nodes.filter(lambda node: node.name.startswith(\"aws\")).take(10)\n",
    "working_nodes"
   ],
   "id": "9fc5d0096a080124",
   "outputs": [
    {
     "data": {
      "text/plain": [
       "[aws-fargate-A-cs190n4-1,\n",
       " aws-fargate-B-cs190n4-2,\n",
       " aws-fargate-ARM64-cs190n4-3,\n",
       " aws-fargate-A-cs190n4-4,\n",
       " aws-fargate-B-cs190n4-5,\n",
       " aws-fargate-ARM64-cs190n4-6,\n",
       " aws-fargate-A-cs190n4-7,\n",
       " aws-fargate-B-cs190n4-8,\n",
       " aws-fargate-ARM64-cs190n4-9,\n",
       " aws-fargate-A-cs190n4-10]"
      ]
     },
     "execution_count": 5,
     "metadata": {},
     "output_type": "execute_result"
    }
   ],
   "execution_count": 5
  },
  {
   "metadata": {
    "ExecuteTime": {
     "end_time": "2024-12-12T09:36:57.876829Z",
     "start_time": "2024-12-12T09:36:57.781435Z"
    }
   },
   "cell_type": "code",
   "source": [
    "experiment = Experiment().map(pipeline, working_nodes)\n",
    "experiment"
   ],
   "id": "3f5632b279ccc951",
   "outputs": [
    {
     "data": {
      "text/plain": [
       " - Deployment: Node=aws-fargate-A-cs190n4-1, executor_id=, prepared=False, error=None\n",
       " - Deployment: Node=aws-fargate-B-cs190n4-2, executor_id=, prepared=False, error=None\n",
       " - Deployment: Node=aws-fargate-ARM64-cs190n4-3, executor_id=, prepared=False, error=None\n",
       " - Deployment: Node=aws-fargate-A-cs190n4-4, executor_id=, prepared=False, error=None\n",
       " - Deployment: Node=aws-fargate-B-cs190n4-5, executor_id=, prepared=False, error=None\n",
       " - Deployment: Node=aws-fargate-ARM64-cs190n4-6, executor_id=, prepared=False, error=None\n",
       " - Deployment: Node=aws-fargate-A-cs190n4-7, executor_id=, prepared=False, error=None\n",
       " - Deployment: Node=aws-fargate-B-cs190n4-8, executor_id=, prepared=False, error=None\n",
       " - Deployment: Node=aws-fargate-ARM64-cs190n4-9, executor_id=, prepared=False, error=None\n",
       " - Deployment: Node=aws-fargate-A-cs190n4-10, executor_id=, prepared=False, error=None"
      ]
     },
     "execution_count": 6,
     "metadata": {},
     "output_type": "execute_result"
    }
   ],
   "execution_count": 6
  },
  {
   "metadata": {
    "ExecuteTime": {
     "end_time": "2024-12-12T09:36:57.995486Z",
     "start_time": "2024-12-12T09:36:57.992841Z"
    }
   },
   "cell_type": "code",
   "source": [
    "for deployment in experiment:\n",
    "    deployment.environment_definition.commands = list(dict.fromkeys(deployment.environment_definition.commands))"
   ],
   "id": "732ef2a4d2a1a5e4",
   "outputs": [],
   "execution_count": 7
  },
  {
   "metadata": {
    "ExecuteTime": {
     "end_time": "2024-12-12T09:36:58.034351Z",
     "start_time": "2024-12-12T09:36:58.030341Z"
    }
   },
   "cell_type": "code",
   "source": [
    "from netunicorn.base import DockerImage\n",
    "for deployment in experiment:\n",
    "    # you can explore the image on the DockerHub\n",
    "    deployment.environment_definition = DockerImage(image='satyandraguthula/netunicorn_images')"
   ],
   "id": "af0f2d27b001024f",
   "outputs": [],
   "execution_count": 8
  },
  {
   "metadata": {
    "ExecuteTime": {
     "end_time": "2024-12-12T09:36:58.104773Z",
     "start_time": "2024-12-12T09:36:58.100685Z"
    }
   },
   "cell_type": "code",
   "source": "experiment_label = \"team-4-experiment-A\"",
   "id": "c170601e45d40fa0",
   "outputs": [],
   "execution_count": 9
  },
  {
   "metadata": {
    "ExecuteTime": {
     "end_time": "2024-12-12T09:37:18.667667Z",
     "start_time": "2024-12-12T09:36:58.152807Z"
    }
   },
   "cell_type": "code",
   "source": [
    "try:\n",
    "    client.delete_experiment(experiment_label)\n",
    "except RemoteClientException:\n",
    "    pass\n",
    "\n",
    "client.prepare_experiment(experiment, experiment_label)\n",
    "\n",
    "while True:\n",
    "    info = client.get_experiment_status(experiment_label)\n",
    "    print(info.status)\n",
    "    if info.status == ExperimentStatus.READY:\n",
    "        break\n",
    "    time.sleep(20)"
   ],
   "id": "7c4bd0658c7774c3",
   "outputs": [
    {
     "name": "stdout",
     "output_type": "stream",
     "text": [
      "ExperimentStatus.PREPARING\n",
      "ExperimentStatus.READY\n"
     ]
    }
   ],
   "execution_count": 10
  },
  {
   "metadata": {
    "ExecuteTime": {
     "end_time": "2024-12-12T09:47:23.734987Z",
     "start_time": "2024-12-12T09:47:23.549960Z"
    }
   },
   "cell_type": "code",
   "source": [
    "for deployment in client.get_experiment_status(experiment_label).experiment:\n",
    "    print(f\"Prepared: {deployment.prepared}, error: {deployment.error}\")"
   ],
   "id": "b359f2435c4c2386",
   "outputs": [
    {
     "name": "stdout",
     "output_type": "stream",
     "text": [
      "Prepared: True, error: None\n",
      "Prepared: True, error: None\n",
      "Prepared: True, error: None\n",
      "Prepared: True, error: None\n",
      "Prepared: True, error: None\n",
      "Prepared: True, error: None\n",
      "Prepared: True, error: None\n",
      "Prepared: True, error: None\n",
      "Prepared: True, error: None\n",
      "Prepared: True, error: None\n"
     ]
    }
   ],
   "execution_count": 13
  },
  {
   "metadata": {
    "ExecuteTime": {
     "end_time": "2024-12-12T09:47:51.564760Z",
     "start_time": "2024-12-12T09:47:31.056617Z"
    }
   },
   "cell_type": "code",
   "source": [
    "client.start_execution(experiment_label)\n",
    "\n",
    "while True:\n",
    "    info = client.get_experiment_status(experiment_label)\n",
    "    print(info.status)\n",
    "    if info.status != ExperimentStatus.RUNNING:\n",
    "        break\n",
    "    time.sleep(20)"
   ],
   "id": "11497ec2c1be44e4",
   "outputs": [
    {
     "name": "stdout",
     "output_type": "stream",
     "text": [
      "ExperimentStatus.RUNNING\n",
      "ExperimentStatus.FINISHED\n"
     ]
    }
   ],
   "execution_count": 14
  },
  {
   "metadata": {
    "ExecuteTime": {
     "end_time": "2024-12-12T09:54:43.290412Z",
     "start_time": "2024-12-12T09:54:43.255941Z"
    }
   },
   "cell_type": "code",
   "source": [
    "from returns.pipeline import is_successful\n",
    "from returns.result import Result\n",
    "\n",
    "for report in info.execution_result:\n",
    "    print(f\"Node name: {report.node.name}\")\n",
    "    print(f\"Error: {report.error}\")\n",
    "\n",
    "    result, log = report.result  # report stores results of execution and corresponding log\n",
    "    \n",
    "    # result is a returns.result.Result object, could be Success of Failure\n",
    "    # or None is error occured during execution\n",
    "    print(f\"Result is: {type(result)}\")\n",
    "    if isinstance(result, Result):\n",
    "        data = result.unwrap() if is_successful(result) else result.failure()\n",
    "        for key, value in data.items():\n",
    "            print(f\"{key}: {value}\")\n",
    "\n",
    "    # we also can explore logs\n",
    "    for line in log:\n",
    "        print(line.strip())\n",
    "    print()"
   ],
   "id": "cf3d0fd62ce5aafe",
   "outputs": [
    {
     "name": "stdout",
     "output_type": "stream",
     "text": [
      "Node name: aws-fargate-A-cs190n4-1\n",
      "Error: None\n",
      "Result is: <class 'returns.result.Failure'>\n",
      "youtube_capture_proxy: [<Success: 7>]\n",
      "c05358b2-50fa-45bf-b904-6c106be39359: [<Success: Video probably finished by timeout: 10 seconds>]\n",
      "11d2b11a-b95f-4eba-9539-c89d20a2a2fa: [<Failure: Traceback (most recent call last):\n",
      "  File \"/usr/local/lib/python3.10/site-packages/netunicorn/executor/utils.py\", line 32, in decorator\n",
      "    result = function(*args, **kwargs)\n",
      "  File \"/Users/tiger/PycharmProjects/ucsb-cs190n-f24-group-4/.venv/lib/python3.10/site-packages/netunicorn/library/tasks/video_watchers/twitch_watcher.py\", line 103, in run\n",
      "  File \"/Users/tiger/PycharmProjects/ucsb-cs190n-f24-group-4/.venv/lib/python3.10/site-packages/netunicorn/library/tasks/video_watchers/twitch_watcher.py\", line 39, in watch\n",
      "  File \"/usr/local/lib/python3.10/site-packages/selenium/webdriver/remote/webdriver.py\", line 393, in get\n",
      "    self.execute(Command.GET, {\"url\": url})\n",
      "  File \"/usr/local/lib/python3.10/site-packages/selenium/webdriver/remote/webdriver.py\", line 384, in execute\n",
      "    self.error_handler.check_response(response)\n",
      "  File \"/usr/local/lib/python3.10/site-packages/selenium/webdriver/remote/errorhandler.py\", line 232, in check_response\n",
      "    raise exception_class(message, screen, stacktrace)\n",
      "selenium.common.exceptions.WebDriverException: Message: unknown error: net::ERR_TUNNEL_CONNECTION_FAILED\n",
      "  (Session info: chrome=125.0.6422.141)\n",
      "Stacktrace:\n",
      "#0 0x565185fd2e3a <unknown>\n",
      "#1 0x565185cbc45c <unknown>\n",
      "#2 0x565185cb3fd0 <unknown>\n",
      "#3 0x565185ca3b32 <unknown>\n",
      "#4 0x565185ca5162 <unknown>\n",
      "#5 0x565185ca3ded <unknown>\n",
      "#6 0x565185ca3503 <unknown>\n",
      "#7 0x565185ca33f5 <unknown>\n",
      "#8 0x565185ca1336 <unknown>\n",
      "#9 0x565185ca183a <unknown>\n",
      "#10 0x565185cbeea7 <unknown>\n",
      "#11 0x565185d4aed5 <unknown>\n",
      "#12 0x565185d2b4b2 <unknown>\n",
      "#13 0x565185d4a2cc <unknown>\n",
      "#14 0x565185d2b253 <unknown>\n",
      "#15 0x565185cfb1c7 <unknown>\n",
      "#16 0x565185cfbb3e <unknown>\n",
      "#17 0x565185f9927b <unknown>\n",
      "#18 0x565185f9d327 <unknown>\n",
      "#19 0x565185f85dae <unknown>\n",
      "#20 0x565185f9ddf2 <unknown>\n",
      "#21 0x565185f6a74f <unknown>\n",
      "#22 0x565185fc2128 <unknown>\n",
      "#23 0x565185fc22fb <unknown>\n",
      "#24 0x565185fd1f6c <unknown>\n",
      "#25 0x7fd4008331c4 <unknown>\n",
      "\n",
      ">]\n",
      "Parsed configuration: Gateway located on https://pinot.cs.ucsb.edu/netunicorn/gateway\n",
      "Current directory: /\n",
      "Successfully received the execution graph.\n",
      "Traceback (most recent call last):\n",
      "File \"/usr/local/lib/python3.10/site-packages/netunicorn/executor/utils.py\", line 32, in decorator\n",
      "result = function(*args, **kwargs)\n",
      "File \"/Users/tiger/PycharmProjects/ucsb-cs190n-f24-group-4/.venv/lib/python3.10/site-packages/netunicorn/library/tasks/video_watchers/twitch_watcher.py\", line 103, in run\n",
      "File \"/Users/tiger/PycharmProjects/ucsb-cs190n-f24-group-4/.venv/lib/python3.10/site-packages/netunicorn/library/tasks/video_watchers/twitch_watcher.py\", line 39, in watch\n",
      "File \"/usr/local/lib/python3.10/site-packages/selenium/webdriver/remote/webdriver.py\", line 393, in get\n",
      "self.execute(Command.GET, {\"url\": url})\n",
      "File \"/usr/local/lib/python3.10/site-packages/selenium/webdriver/remote/webdriver.py\", line 384, in execute\n",
      "self.error_handler.check_response(response)\n",
      "File \"/usr/local/lib/python3.10/site-packages/selenium/webdriver/remote/errorhandler.py\", line 232, in check_response\n",
      "raise exception_class(message, screen, stacktrace)\n",
      "selenium.common.exceptions.WebDriverException: Message: unknown error: net::ERR_TUNNEL_CONNECTION_FAILED\n",
      "(Session info: chrome=125.0.6422.141)\n",
      "Stacktrace:\n",
      "#0 0x565185fd2e3a <unknown>\n",
      "#1 0x565185cbc45c <unknown>\n",
      "#2 0x565185cb3fd0 <unknown>\n",
      "#3 0x565185ca3b32 <unknown>\n",
      "#4 0x565185ca5162 <unknown>\n",
      "#5 0x565185ca3ded <unknown>\n",
      "#6 0x565185ca3503 <unknown>\n",
      "#7 0x565185ca33f5 <unknown>\n",
      "#8 0x565185ca1336 <unknown>\n",
      "#9 0x565185ca183a <unknown>\n",
      "#10 0x565185cbeea7 <unknown>\n",
      "#11 0x565185d4aed5 <unknown>\n",
      "#12 0x565185d2b4b2 <unknown>\n",
      "#13 0x565185d4a2cc <unknown>\n",
      "#14 0x565185d2b253 <unknown>\n",
      "#15 0x565185cfb1c7 <unknown>\n",
      "#16 0x565185cfbb3e <unknown>\n",
      "#17 0x565185f9927b <unknown>\n",
      "#18 0x565185f9d327 <unknown>\n",
      "#19 0x565185f85dae <unknown>\n",
      "#20 0x565185f9ddf2 <unknown>\n",
      "#21 0x565185f6a74f <unknown>\n",
      "#22 0x565185fc2128 <unknown>\n",
      "#23 0x565185fc22fb <unknown>\n",
      "#24 0x565185fd1f6c <unknown>\n",
      "#25 0x7fd4008331c4 <unknown>\n",
      "\n",
      "Execution is finished, start reporting results.\n",
      "\n",
      "Node name: aws-fargate-B-cs190n4-2\n",
      "Error: None\n",
      "Result is: <class 'returns.result.Failure'>\n",
      "youtube_capture_proxy: [<Success: 8>]\n",
      "c05358b2-50fa-45bf-b904-6c106be39359: [<Success: Video probably finished by timeout: 10 seconds>]\n",
      "11d2b11a-b95f-4eba-9539-c89d20a2a2fa: [<Failure: Traceback (most recent call last):\n",
      "  File \"/usr/local/lib/python3.10/site-packages/netunicorn/executor/utils.py\", line 32, in decorator\n",
      "    result = function(*args, **kwargs)\n",
      "  File \"/Users/tiger/PycharmProjects/ucsb-cs190n-f24-group-4/.venv/lib/python3.10/site-packages/netunicorn/library/tasks/video_watchers/twitch_watcher.py\", line 103, in run\n",
      "  File \"/Users/tiger/PycharmProjects/ucsb-cs190n-f24-group-4/.venv/lib/python3.10/site-packages/netunicorn/library/tasks/video_watchers/twitch_watcher.py\", line 39, in watch\n",
      "  File \"/usr/local/lib/python3.10/site-packages/selenium/webdriver/remote/webdriver.py\", line 393, in get\n",
      "    self.execute(Command.GET, {\"url\": url})\n",
      "  File \"/usr/local/lib/python3.10/site-packages/selenium/webdriver/remote/webdriver.py\", line 384, in execute\n",
      "    self.error_handler.check_response(response)\n",
      "  File \"/usr/local/lib/python3.10/site-packages/selenium/webdriver/remote/errorhandler.py\", line 232, in check_response\n",
      "    raise exception_class(message, screen, stacktrace)\n",
      "selenium.common.exceptions.WebDriverException: Message: unknown error: net::ERR_TUNNEL_CONNECTION_FAILED\n",
      "  (Session info: chrome=125.0.6422.141)\n",
      "Stacktrace:\n",
      "#0 0x563a0df38e3a <unknown>\n",
      "#1 0x563a0dc2245c <unknown>\n",
      "#2 0x563a0dc19fd0 <unknown>\n",
      "#3 0x563a0dc09b32 <unknown>\n",
      "#4 0x563a0dc0b162 <unknown>\n",
      "#5 0x563a0dc09ded <unknown>\n",
      "#6 0x563a0dc09503 <unknown>\n",
      "#7 0x563a0dc093f5 <unknown>\n",
      "#8 0x563a0dc07336 <unknown>\n",
      "#9 0x563a0dc0783a <unknown>\n",
      "#10 0x563a0dc24ea7 <unknown>\n",
      "#11 0x563a0dcb0ed5 <unknown>\n",
      "#12 0x563a0dc914b2 <unknown>\n",
      "#13 0x563a0dcb02cc <unknown>\n",
      "#14 0x563a0dc91253 <unknown>\n",
      "#15 0x563a0dc611c7 <unknown>\n",
      "#16 0x563a0dc61b3e <unknown>\n",
      "#17 0x563a0deff27b <unknown>\n",
      "#18 0x563a0df03327 <unknown>\n",
      "#19 0x563a0deebdae <unknown>\n",
      "#20 0x563a0df03df2 <unknown>\n",
      "#21 0x563a0ded074f <unknown>\n",
      "#22 0x563a0df28128 <unknown>\n",
      "#23 0x563a0df282fb <unknown>\n",
      "#24 0x563a0df37f6c <unknown>\n",
      "#25 0x7fc5a8cf71c4 <unknown>\n",
      "\n",
      ">]\n",
      "Parsed configuration: Gateway located on https://pinot.cs.ucsb.edu/netunicorn/gateway\n",
      "Current directory: /\n",
      "Successfully received the execution graph.\n",
      "Traceback (most recent call last):\n",
      "File \"/usr/local/lib/python3.10/site-packages/netunicorn/executor/utils.py\", line 32, in decorator\n",
      "result = function(*args, **kwargs)\n",
      "File \"/Users/tiger/PycharmProjects/ucsb-cs190n-f24-group-4/.venv/lib/python3.10/site-packages/netunicorn/library/tasks/video_watchers/twitch_watcher.py\", line 103, in run\n",
      "File \"/Users/tiger/PycharmProjects/ucsb-cs190n-f24-group-4/.venv/lib/python3.10/site-packages/netunicorn/library/tasks/video_watchers/twitch_watcher.py\", line 39, in watch\n",
      "File \"/usr/local/lib/python3.10/site-packages/selenium/webdriver/remote/webdriver.py\", line 393, in get\n",
      "self.execute(Command.GET, {\"url\": url})\n",
      "File \"/usr/local/lib/python3.10/site-packages/selenium/webdriver/remote/webdriver.py\", line 384, in execute\n",
      "self.error_handler.check_response(response)\n",
      "File \"/usr/local/lib/python3.10/site-packages/selenium/webdriver/remote/errorhandler.py\", line 232, in check_response\n",
      "raise exception_class(message, screen, stacktrace)\n",
      "selenium.common.exceptions.WebDriverException: Message: unknown error: net::ERR_TUNNEL_CONNECTION_FAILED\n",
      "(Session info: chrome=125.0.6422.141)\n",
      "Stacktrace:\n",
      "#0 0x563a0df38e3a <unknown>\n",
      "#1 0x563a0dc2245c <unknown>\n",
      "#2 0x563a0dc19fd0 <unknown>\n",
      "#3 0x563a0dc09b32 <unknown>\n",
      "#4 0x563a0dc0b162 <unknown>\n",
      "#5 0x563a0dc09ded <unknown>\n",
      "#6 0x563a0dc09503 <unknown>\n",
      "#7 0x563a0dc093f5 <unknown>\n",
      "#8 0x563a0dc07336 <unknown>\n",
      "#9 0x563a0dc0783a <unknown>\n",
      "#10 0x563a0dc24ea7 <unknown>\n",
      "#11 0x563a0dcb0ed5 <unknown>\n",
      "#12 0x563a0dc914b2 <unknown>\n",
      "#13 0x563a0dcb02cc <unknown>\n",
      "#14 0x563a0dc91253 <unknown>\n",
      "#15 0x563a0dc611c7 <unknown>\n",
      "#16 0x563a0dc61b3e <unknown>\n",
      "#17 0x563a0deff27b <unknown>\n",
      "#18 0x563a0df03327 <unknown>\n",
      "#19 0x563a0deebdae <unknown>\n",
      "#20 0x563a0df03df2 <unknown>\n",
      "#21 0x563a0ded074f <unknown>\n",
      "#22 0x563a0df28128 <unknown>\n",
      "#23 0x563a0df282fb <unknown>\n",
      "#24 0x563a0df37f6c <unknown>\n",
      "#25 0x7fc5a8cf71c4 <unknown>\n",
      "\n",
      "Execution is finished, start reporting results.\n",
      "\n",
      "Node name: aws-fargate-ARM64-cs190n4-3\n",
      "Error: Executor timed out\n"
     ]
    },
    {
     "ename": "TypeError",
     "evalue": "cannot unpack non-iterable NoneType object",
     "output_type": "error",
     "traceback": [
      "\u001B[0;31m---------------------------------------------------------------------------\u001B[0m",
      "\u001B[0;31mTypeError\u001B[0m                                 Traceback (most recent call last)",
      "Cell \u001B[0;32mIn[16], line 8\u001B[0m\n\u001B[1;32m      5\u001B[0m \u001B[38;5;28mprint\u001B[39m(\u001B[38;5;124mf\u001B[39m\u001B[38;5;124m\"\u001B[39m\u001B[38;5;124mNode name: \u001B[39m\u001B[38;5;132;01m{\u001B[39;00mreport\u001B[38;5;241m.\u001B[39mnode\u001B[38;5;241m.\u001B[39mname\u001B[38;5;132;01m}\u001B[39;00m\u001B[38;5;124m\"\u001B[39m)\n\u001B[1;32m      6\u001B[0m \u001B[38;5;28mprint\u001B[39m(\u001B[38;5;124mf\u001B[39m\u001B[38;5;124m\"\u001B[39m\u001B[38;5;124mError: \u001B[39m\u001B[38;5;132;01m{\u001B[39;00mreport\u001B[38;5;241m.\u001B[39merror\u001B[38;5;132;01m}\u001B[39;00m\u001B[38;5;124m\"\u001B[39m)\n\u001B[0;32m----> 8\u001B[0m result, log \u001B[38;5;241m=\u001B[39m report\u001B[38;5;241m.\u001B[39mresult  \u001B[38;5;66;03m# report stores results of execution and corresponding log\u001B[39;00m\n\u001B[1;32m     10\u001B[0m \u001B[38;5;66;03m# result is a returns.result.Result object, could be Success of Failure\u001B[39;00m\n\u001B[1;32m     11\u001B[0m \u001B[38;5;66;03m# or None is error occured during execution\u001B[39;00m\n\u001B[1;32m     12\u001B[0m \u001B[38;5;28mprint\u001B[39m(\u001B[38;5;124mf\u001B[39m\u001B[38;5;124m\"\u001B[39m\u001B[38;5;124mResult is: \u001B[39m\u001B[38;5;132;01m{\u001B[39;00m\u001B[38;5;28mtype\u001B[39m(result)\u001B[38;5;132;01m}\u001B[39;00m\u001B[38;5;124m\"\u001B[39m)\n",
      "\u001B[0;31mTypeError\u001B[0m: cannot unpack non-iterable NoneType object"
     ]
    }
   ],
   "execution_count": 16
  },
  {
   "metadata": {
    "ExecuteTime": {
     "end_time": "2024-12-12T09:49:08.085087Z",
     "start_time": "2024-12-12T09:49:07.253977Z"
    }
   },
   "cell_type": "code",
   "source": [
    "directory = \"/mnt/md0/cs190n/cs190n4/A\"\n",
    "\n",
    "for capture in os.listdir(directory):\n",
    "    for execution in os.listdir(str(os.path.join(directory, capture))):\n",
    "        if capture.ends(\"_proxy\"):\n",
    "            %mkdir -p ./data/A/{capture}\n",
    "            for file in os.listdir(str(os.path.join(directory, capture, execution))):\n",
    "                if file.endswith(\".pcap\"):\n",
    "                    print(os.path.join(directory, capture, execution, file))\n",
    "                    !docker run -v {os.path.join(directory, capture, execution)}:/tmp/input -v .:/tmp/output mielverkerken/cicflowmeter /tmp/input/{file} /tmp/output > /dev/null 2>&1\n",
    "                    !mv ./{file}_Flow.csv ./data/A/{capture}/{execution}-{file}.csv"
   ],
   "id": "ce00a50cd4873af7",
   "outputs": [],
   "execution_count": 15
  },
  {
   "metadata": {},
   "cell_type": "code",
   "outputs": [],
   "execution_count": null,
   "source": "",
   "id": "88a8789f097f5efb"
  }
 ],
 "metadata": {
  "kernelspec": {
   "display_name": "Python 3",
   "language": "python",
   "name": "python3"
  },
  "language_info": {
   "codemirror_mode": {
    "name": "ipython",
    "version": 2
   },
   "file_extension": ".py",
   "mimetype": "text/x-python",
   "name": "python",
   "nbconvert_exporter": "python",
   "pygments_lexer": "ipython2",
   "version": "2.7.6"
  }
 },
 "nbformat": 4,
 "nbformat_minor": 5
}
