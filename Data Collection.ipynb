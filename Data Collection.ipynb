{
 "cells": [
  {
   "cell_type": "code",
   "id": "initial_id",
   "metadata": {
    "collapsed": true,
    "ExecuteTime": {
     "end_time": "2024-11-29T14:13:13.370523Z",
     "start_time": "2024-11-29T14:13:13.358807Z"
    }
   },
   "source": [
    "from IPython.display import display, HTML\n",
    "display(HTML(\"<style>.container { width:100% !important; }</style>\"))"
   ],
   "outputs": [
    {
     "data": {
      "text/plain": [
       "<IPython.core.display.HTML object>"
      ],
      "text/html": [
       "<style>.container { width:100% !important; }</style>"
      ]
     },
     "metadata": {},
     "output_type": "display_data"
    }
   ],
   "execution_count": 1
  },
  {
   "metadata": {
    "ExecuteTime": {
     "end_time": "2024-11-29T14:13:14.372158Z",
     "start_time": "2024-11-29T14:13:13.744917Z"
    }
   },
   "cell_type": "code",
   "source": [
    "import os\n",
    "import time\n",
    "import pandas as pd\n",
    "from datetime import datetime, timedelta\n",
    "\n",
    "from netunicorn.client.remote import RemoteClient, RemoteClientException\n",
    "from netunicorn.base import Experiment, ExperimentStatus, Pipeline, DockerImage\n",
    "from netunicorn.library.tasks.capture.tcpdump import StartCapture, StopNamedCapture\n",
    "from netunicorn.library.tasks.upload.fileio import UploadToFileIO\n",
    "from netunicorn.library.tasks.upload.webdav import UploadToWebDav\n",
    "from netunicorn.library.tasks.basic import SleepTask\n",
    "from netunicorn.library.tasks.measurements.ookla_speedtest import SpeedTest\n",
    "from netunicorn.library.tasks.video_watchers.youtube_watcher import WatchYouTubeVideo\n",
    "from netunicorn.library.tasks.video_watchers.vimeo_watcher import WatchVimeoVideo\n",
    "from netunicorn.library.tasks.video_watchers.twitch_watcher import WatchTwitchStream"
   ],
   "id": "881ff08627f9526e",
   "outputs": [],
   "execution_count": 2
  },
  {
   "metadata": {
    "ExecuteTime": {
     "end_time": "2024-11-29T14:13:15.354432Z",
     "start_time": "2024-11-29T14:13:14.597237Z"
    }
   },
   "cell_type": "code",
   "source": [
    "netunicorn_login = 'cs190n4'\n",
    "netunicorn_password = 'zvL89JkW'\n",
    "\n",
    "NETUNICORN_ENDPOINT = os.environ.get('NETUNICORN_ENDPOINT', 'https://pinot.cs.ucsb.edu/netunicorn')\n",
    "NETUNICORN_LOGIN = os.environ.get('NETUNICORN_LOGIN', netunicorn_login)\n",
    "NETUNICORN_PASSWORD = os.environ.get('NETUNICORN_PASSWORD', netunicorn_password)\n",
    "\n",
    "client = RemoteClient(endpoint=NETUNICORN_ENDPOINT, login=NETUNICORN_LOGIN, password=NETUNICORN_PASSWORD)\n",
    "print(\"Health Check: {}\".format(client.healthcheck()))\n",
    "nodes = client.get_nodes()\n",
    "print(nodes)"
   ],
   "id": "641a6031a153342a",
   "outputs": [
    {
     "name": "stdout",
     "output_type": "stream",
     "text": [
      "Health Check: True\n",
      "[<Uncountable node pool with next node template: [aws-fargate-A-cs190n4-, aws-fargate-B-cs190n4-, aws-fargate-ARM64-cs190n4-]>]\n"
     ]
    }
   ],
   "execution_count": 3
  },
  {
   "metadata": {
    "ExecuteTime": {
     "end_time": "2024-11-29T14:13:15.483775Z",
     "start_time": "2024-11-29T14:13:15.476820Z"
    }
   },
   "cell_type": "code",
   "source": [
    "pipeline = (\n",
    "    Pipeline()\n",
    "    .then(StartCapture(filepath=\"/tmp/youtube_capture.pcap\", name=\"youtube_capture\"))\n",
    "    .then(WatchYouTubeVideo(\"https://www.youtube.com/watch?v=dQw4w9WgXcQ\", 10))\n",
    "    .then(StopNamedCapture(start_capture_task_name=\"youtube_capture\"))\n",
    "    .then(StartCapture(filepath=\"/tmp/vimeo_capture.pcap\", name=\"vimeo_capture\"))\n",
    "    .then(WatchVimeoVideo(\"https://vimeo.com/375468729\", 10))\n",
    "    .then(StopNamedCapture(start_capture_task_name=\"vimeo_capture\"))\n",
    "    .then(StartCapture(filepath=\"/tmp/twitch_capture.pcap\", name=\"twitch_capture\"))\n",
    "    .then(WatchTwitchStream(\"https://www.twitch.tv/shroud\", 10))\n",
    "    .then(StopNamedCapture(start_capture_task_name=\"twitch_capture\"))\n",
    "    .then(UploadToWebDav(\n",
    "        filepaths={\n",
    "            \"/tmp/youtube_capture.pcap\",\n",
    "            \"/tmp/vimeo_capture.pcap\",\n",
    "            \"/tmp/twitch_capture.pcap\"\n",
    "        },\n",
    "        endpoint=\"http://snl-server-5.cs.ucsb.edu/cs190n/cs190n4/capture\",\n",
    "        username=\"uploader\",\n",
    "        password=\"uploader\"\n",
    "    ))\n",
    ")"
   ],
   "id": "3fb17ba08afe12c9",
   "outputs": [],
   "execution_count": 4
  },
  {
   "metadata": {
    "ExecuteTime": {
     "end_time": "2024-11-29T14:13:15.592864Z",
     "start_time": "2024-11-29T14:13:15.588002Z"
    }
   },
   "cell_type": "code",
   "source": "working_node = \"aws\"",
   "id": "d0ffd8b2134a186b",
   "outputs": [],
   "execution_count": 5
  },
  {
   "metadata": {
    "ExecuteTime": {
     "end_time": "2024-11-29T14:13:15.775146Z",
     "start_time": "2024-11-29T14:13:15.762053Z"
    }
   },
   "cell_type": "code",
   "source": [
    "def execute_pipeline(pipeline, working_node, experiment_label):\n",
    "    working_nodes = nodes.filter(lambda node: node.name.startswith(working_node)).take(1)\n",
    "    experiment = Experiment().map(pipeline, working_nodes)\n",
    "\n",
    "    for deployment in experiment:\n",
    "        # you can explore the image on the DockerHub\n",
    "        deployment.environment_definition = DockerImage(image=\"satyandraguthula/netunicorn_images\")\n",
    "\n",
    "    try:\n",
    "        client.delete_experiment(experiment_label)\n",
    "    except RemoteClientException:\n",
    "        pass\n",
    "\n",
    "    # Prepare Experiment\n",
    "    client.prepare_experiment(experiment, experiment_label)\n",
    "    while True:\n",
    "        info = client.get_experiment_status(experiment_label)\n",
    "        print(info.status)\n",
    "        if info.status == ExperimentStatus.READY:\n",
    "            break\n",
    "        time.sleep(20)\n",
    "\n",
    "    time.sleep(5)\n",
    "\n",
    "    # Execute Experiment\n",
    "    client.start_execution(experiment_label)\n",
    "    while True:\n",
    "        info = client.get_experiment_status(experiment_label)\n",
    "        print(info.status)\n",
    "        if info.status != ExperimentStatus.RUNNING:\n",
    "            break\n",
    "        time.sleep(20)\n",
    "    return info"
   ],
   "id": "5e185020f00b712c",
   "outputs": [],
   "execution_count": 6
  },
  {
   "metadata": {
    "ExecuteTime": {
     "end_time": "2024-11-29T14:13:15.925547Z",
     "start_time": "2024-11-29T14:13:15.919951Z"
    }
   },
   "cell_type": "code",
   "source": "experiment_label = \"team-4-experiment\"",
   "id": "f556baef86a791ae",
   "outputs": [],
   "execution_count": 7
  },
  {
   "metadata": {
    "ExecuteTime": {
     "end_time": "2024-11-29T14:16:01.937876Z",
     "start_time": "2024-11-29T14:13:16.040444Z"
    }
   },
   "cell_type": "code",
   "source": "execute_pipeline(pipeline, working_node, experiment_label)",
   "id": "d2e3ded0978edf07",
   "outputs": [
    {
     "name": "stdout",
     "output_type": "stream",
     "text": [
      "ExperimentStatus.PREPARING\n",
      "ExperimentStatus.READY\n",
      "ExperimentStatus.RUNNING\n",
      "ExperimentStatus.RUNNING\n",
      "ExperimentStatus.RUNNING\n",
      "ExperimentStatus.RUNNING\n",
      "ExperimentStatus.RUNNING\n",
      "ExperimentStatus.RUNNING\n",
      "ExperimentStatus.RUNNING\n",
      "ExperimentStatus.FINISHED\n"
     ]
    },
    {
     "data": {
      "text/plain": [
       "ExperimentExecutionInformation:\n",
       "status: ExperimentStatus.FINISHED\n",
       "experiment: \n",
       " - Deployment: Node=aws-fargate-A-cs190n4-1, executor_id=9e2db76b-b617-44af-88f3-59380ba6fb11, prepared=True, error=None\n",
       "execution_result:\n",
       "[DeploymentExecutionResult:\n",
       "  Node: aws-fargate-A-cs190n4-1\n",
       "  Result: <class 'returns.result.Failure'>\n",
       "   <Failure: defaultdict(<class 'list'>, {'youtube_capture': [<Success: 8>], 'dd71f943-5131-4926-8347-d9325745bed0': [<Failure: Traceback (most recent call last):\n",
       "  File \"/usr/local/lib/python3.10/site-packages/netunicorn/executor/utils.py\", line 32, in decorator\n",
       "    result = function(*args, **kwargs)\n",
       "  File \"/home/tigeryu/.virtualenvs/CMPSC 190N/lib/python3.10/site-packages/netunicorn/library/tasks/video_watchers/youtube_watcher.py\", line 157, in run\n",
       "  File \"/home/tigeryu/.virtualenvs/CMPSC 190N/lib/python3.10/site-packages/netunicorn/library/tasks/video_watchers/youtube_watcher.py\", line 73, in watch\n",
       "  File \"/usr/local/lib/python3.10/site-packages/selenium/webdriver/remote/webelement.py\", line 231, in send_keys\n",
       "    self._execute(\n",
       "  File \"/usr/local/lib/python3.10/site-packages/selenium/webdriver/remote/webelement.py\", line 395, in _execute\n",
       "    return self._parent.execute(command, params)\n",
       "  File \"/usr/local/lib/python3.10/site-packages/selenium/webdriver/remote/webdriver.py\", line 384, in execute\n",
       "    self.error_handler.check_response(response)\n",
       "  File \"/usr/local/lib/python3.10/site-packages/selenium/webdriver/remote/errorhandler.py\", line 232, in check_response\n",
       "    raise exception_class(message, screen, stacktrace)\n",
       "selenium.common.exceptions.ElementNotInteractableException: Message: element not interactable\n",
       "  (Session info: chrome=125.0.6422.141)\n",
       "Stacktrace:\n",
       "#0 0x558756b18e3a <unknown>\n",
       "#1 0x5587568022a1 <unknown>\n",
       "#2 0x5587568483e8 <unknown>\n",
       "#3 0x5587568467cf <unknown>\n",
       "#4 0x5587568714b2 <unknown>\n",
       "#5 0x558756842a79 <unknown>\n",
       "#6 0x55875687167e <unknown>\n",
       "#7 0x5587568902cc <unknown>\n",
       "#8 0x558756871253 <unknown>\n",
       "#9 0x5587568411c7 <unknown>\n",
       "#10 0x558756841b3e <unknown>\n",
       "#11 0x558756adf27b <unknown>\n",
       "#12 0x558756ae3327 <unknown>\n",
       "#13 0x558756acbdae <unknown>\n",
       "#14 0x558756ae3df2 <unknown>\n",
       "#15 0x558756ab074f <unknown>\n",
       "#16 0x558756b08128 <unknown>\n",
       "#17 0x558756b082fb <unknown>\n",
       "#18 0x558756b17f6c <unknown>\n",
       "#19 0x7fea8c1a21c4 <unknown>\n",
       "\n",
       ">]})>\n",
       "  Logs:\n",
       "    Parsed configuration: Gateway located on https://pinot.cs.ucsb.edu/netunicorn/gateway\n",
       "    Current directory: /\n",
       "    Successfully received the execution graph.\n",
       "    Traceback (most recent call last):\n",
       "      File \"/usr/local/lib/python3.10/site-packages/netunicorn/executor/utils.py\", line 32, in decorator\n",
       "        result = function(*args, **kwargs)\n",
       "      File \"/home/tigeryu/.virtualenvs/CMPSC 190N/lib/python3.10/site-packages/netunicorn/library/tasks/video_watchers/youtube_watcher.py\", line 157, in run\n",
       "      File \"/home/tigeryu/.virtualenvs/CMPSC 190N/lib/python3.10/site-packages/netunicorn/library/tasks/video_watchers/youtube_watcher.py\", line 73, in watch\n",
       "      File \"/usr/local/lib/python3.10/site-packages/selenium/webdriver/remote/webelement.py\", line 231, in send_keys\n",
       "        self._execute(\n",
       "      File \"/usr/local/lib/python3.10/site-packages/selenium/webdriver/remote/webelement.py\", line 395, in _execute\n",
       "        return self._parent.execute(command, params)\n",
       "      File \"/usr/local/lib/python3.10/site-packages/selenium/webdriver/remote/webdriver.py\", line 384, in execute\n",
       "        self.error_handler.check_response(response)\n",
       "      File \"/usr/local/lib/python3.10/site-packages/selenium/webdriver/remote/errorhandler.py\", line 232, in check_response\n",
       "        raise exception_class(message, screen, stacktrace)\n",
       "    selenium.common.exceptions.ElementNotInteractableException: Message: element not interactable\n",
       "      (Session info: chrome=125.0.6422.141)\n",
       "    Stacktrace:\n",
       "    #0 0x558756b18e3a <unknown>\n",
       "    #1 0x5587568022a1 <unknown>\n",
       "    #2 0x5587568483e8 <unknown>\n",
       "    #3 0x5587568467cf <unknown>\n",
       "    #4 0x5587568714b2 <unknown>\n",
       "    #5 0x558756842a79 <unknown>\n",
       "    #6 0x55875687167e <unknown>\n",
       "    #7 0x5587568902cc <unknown>\n",
       "    #8 0x558756871253 <unknown>\n",
       "    #9 0x5587568411c7 <unknown>\n",
       "    #10 0x558756841b3e <unknown>\n",
       "    #11 0x558756adf27b <unknown>\n",
       "    #12 0x558756ae3327 <unknown>\n",
       "    #13 0x558756acbdae <unknown>\n",
       "    #14 0x558756ae3df2 <unknown>\n",
       "    #15 0x558756ab074f <unknown>\n",
       "    #16 0x558756b08128 <unknown>\n",
       "    #17 0x558756b082fb <unknown>\n",
       "    #18 0x558756b17f6c <unknown>\n",
       "    #19 0x7fea8c1a21c4 <unknown>\n",
       "    \n",
       "    Execution is finished, start reporting results.\n",
       "\n",
       "]"
      ]
     },
     "execution_count": 8,
     "metadata": {},
     "output_type": "execute_result"
    }
   ],
   "execution_count": 8
  },
  {
   "metadata": {
    "ExecuteTime": {
     "end_time": "2024-11-29T14:16:02.224487Z",
     "start_time": "2024-11-29T14:16:02.219845Z"
    }
   },
   "cell_type": "code",
   "source": "",
   "id": "f45dd79b03a6e03c",
   "outputs": [],
   "execution_count": null
  }
 ],
 "metadata": {
  "kernelspec": {
   "display_name": "Python 3",
   "language": "python",
   "name": "python3"
  },
  "language_info": {
   "codemirror_mode": {
    "name": "ipython",
    "version": 2
   },
   "file_extension": ".py",
   "mimetype": "text/x-python",
   "name": "python",
   "nbconvert_exporter": "python",
   "pygments_lexer": "ipython2",
   "version": "2.7.6"
  }
 },
 "nbformat": 4,
 "nbformat_minor": 5
}
